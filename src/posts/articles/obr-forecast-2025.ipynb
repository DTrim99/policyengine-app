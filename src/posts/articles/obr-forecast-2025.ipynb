{
 "cells": [
  {
   "cell_type": "markdown",
   "metadata": {},
   "source": [
    "Today, the Office for Budget Responsibility releases its Spring 2025 Economic and Fiscal Outlook. The OBR is an independent body that produces economic and fiscal forecasts for the UK government.\n",
    "\n",
    "In this report, we'll integrate the OBR's new Spring forecast into PolicyEngine's tax-benefit microsimulation model, and examine the impact this new forecast (against the Autumn 2024 EFO) on the UK household sector. All impacts below are the impact of this forecast change *alone*, excluding any policy measures not already in the baseline policy."
   ]
  },
  {
   "cell_type": "code",
   "execution_count": 35,
   "metadata": {},
   "outputs": [
    {
     "data": {
      "text/markdown": [
       "[See the policy in PolicyEngine](https://policyengine.org/uk/policy?reform=80223&baseline=80215&region=uk&timePeriod=2029)"
      ],
      "text/plain": [
       "<IPython.core.display.Markdown object>"
      ]
     },
     "execution_count": 35,
     "metadata": {},
     "output_type": "execute_result"
    }
   ],
   "source": [
    "from policyengine import Simulation\n",
    "\n",
    "\n",
    "# Autumn 2024 OBR Forecast\n",
    "AUTUMN_24_OBR_FORECAST = {\n",
    "    \"gov.obr.employment_income\": {\n",
    "        \"year:2025:1\": 1215.6,\n",
    "        \"year:2026:1\": 1246.5,\n",
    "        \"year:2027:1\": 1277.7,\n",
    "        \"year:2028:1\": 1312.9,\n",
    "        \"year:2029:1\": 1352.9,\n",
    "        \"year:2030:1\": 1380.36,\n",
    "        \"year:2031:1\": 1407.82,\n",
    "        \"year:2032:1\": 1435.28,\n",
    "        \"year:2033:1\": 1462.74,\n",
    "        \"year:2034:1\": 1490.2,\n",
    "    },\n",
    "    \"gov.obr.mixed_income\": {\n",
    "        \"year:2025:1\": 177.6,\n",
    "        \"year:2026:1\": 196.7,\n",
    "        \"year:2027:1\": 205.3,\n",
    "        \"year:2028:1\": 214.6,\n",
    "        \"year:2029:1\": 225.0,\n",
    "        \"year:2030:1\": 232.34,\n",
    "        \"year:2031:1\": 239.68,\n",
    "        \"year:2032:1\": 247.02,\n",
    "        \"year:2033:1\": 254.36,\n",
    "        \"year:2034:1\": 261.7,\n",
    "    },\n",
    "    \"gov.obr.non_labour_income\": {\n",
    "        \"year:2025:1\": 460.8,\n",
    "        \"year:2026:1\": 512.7,\n",
    "        \"year:2027:1\": 535.0,\n",
    "        \"year:2028:1\": 554.0,\n",
    "        \"year:2029:1\": 571.8,\n",
    "        \"year:2030:1\": 588.38,\n",
    "        \"year:2031:1\": 604.96,\n",
    "        \"year:2032:1\": 621.54,\n",
    "        \"year:2033:1\": 638.12,\n",
    "        \"year:2034:1\": 654.7,\n",
    "    },\n",
    "    \"gov.obr.consumer_price_index\": {\n",
    "        \"year:2025:1\": 138.1,\n",
    "        \"year:2026:1\": 141.1,\n",
    "        \"year:2027:1\": 144.1,\n",
    "        \"year:2028:1\": 147.1,\n",
    "        \"year:2029:1\": 150.1,\n",
    "        \"year:2030:1\": 152.5,\n",
    "        \"year:2031:1\": 154.9,\n",
    "        \"year:2032:1\": 157.3,\n",
    "        \"year:2033:1\": 159.7,\n",
    "        \"year:2034:1\": 162.1,\n",
    "    },\n",
    "}\n",
    "\n",
    "# Spring 2025 OBR Forecast - Default to Autumn 2024 values, update these when the new forecast is released\n",
    "SPRING_25_OBR_FORECAST = {\n",
    "    \"gov.obr.employment_income\": {\n",
    "        \"year:2025:1\": 1215.6,\n",
    "        \"year:2026:1\": 1246.5,\n",
    "        \"year:2027:1\": 1277.7,\n",
    "        \"year:2028:1\": 1312.9,\n",
    "        \"year:2029:1\": 1352.9,\n",
    "        \"year:2030:1\": 1380.36,\n",
    "        \"year:2031:1\": 1407.82,\n",
    "        \"year:2032:1\": 1435.28,\n",
    "        \"year:2033:1\": 1462.74,\n",
    "        \"year:2034:1\": 1490.2,\n",
    "    },\n",
    "    \"gov.obr.mixed_income\": {\n",
    "        \"year:2025:1\": 177.6,\n",
    "        \"year:2026:1\": 196.7,\n",
    "        \"year:2027:1\": 205.3,\n",
    "        \"year:2028:1\": 214.6,\n",
    "        \"year:2029:1\": 225.0,\n",
    "        \"year:2030:1\": 232.34,\n",
    "        \"year:2031:1\": 239.68,\n",
    "        \"year:2032:1\": 247.02,\n",
    "        \"year:2033:1\": 254.36,\n",
    "        \"year:2034:1\": 261.7,\n",
    "    },\n",
    "    \"gov.obr.non_labour_income\": {\n",
    "        \"year:2025:1\": 460.8,\n",
    "        \"year:2026:1\": 512.7,\n",
    "        \"year:2027:1\": 535.0,\n",
    "        \"year:2028:1\": 554.0,\n",
    "        \"year:2029:1\": 571.8,\n",
    "        \"year:2030:1\": 588.38,\n",
    "        \"year:2031:1\": 604.96,\n",
    "        \"year:2032:1\": 621.54,\n",
    "        \"year:2033:1\": 638.12,\n",
    "        \"year:2034:1\": 654.7,\n",
    "    },\n",
    "    \"gov.obr.consumer_price_index\": {\n",
    "        \"year:2025:1\": 138.1,\n",
    "        \"year:2026:1\": 141.1,\n",
    "        \"year:2027:1\": 144.1,\n",
    "        \"year:2028:1\": 147.1,\n",
    "        \"year:2029:1\": 150.1,\n",
    "        \"year:2030:1\": 152.5,\n",
    "        \"year:2031:1\": 154.9,\n",
    "        \"year:2032:1\": 157.3,\n",
    "        \"year:2033:1\": 159.7,\n",
    "        \"year:2034:1\": 162.1,\n",
    "    },\n",
    "}\n",
    "\n",
    "# As a test- halve earnings growth params\n",
    "\n",
    "for year in range(2026, 2030):\n",
    "    # Calculate growth in autumn forecast\n",
    "    earnings_growth = AUTUMN_24_OBR_FORECAST[\"gov.obr.employment_income\"][f\"year:{year}:1\"] - AUTUMN_24_OBR_FORECAST[\"gov.obr.employment_income\"][f\"year:{year-1}:1\"]\n",
    "    # Update spring forecast with halved growth\n",
    "    SPRING_25_OBR_FORECAST[\"gov.obr.employment_income\"][f\"year:{year}:1\"] = SPRING_25_OBR_FORECAST[\"gov.obr.employment_income\"][f\"year:{year-1}:1\"] + earnings_growth/2\n",
    "\n",
    "sim = Simulation(\n",
    "    country=\"uk\",\n",
    "    scope=\"macro\",\n",
    "    baseline=AUTUMN_24_OBR_FORECAST,\n",
    "    reform=SPRING_25_OBR_FORECAST,\n",
    ")\n",
    "\n",
    "from policyengine_core.reforms import Reform\n",
    "from IPython.display import Markdown\n",
    "import pandas as pd\n",
    "\n",
    "baseline = Reform.from_dict(AUTUMN_24_OBR_FORECAST, country_id=\"uk\")\n",
    "reform = Reform.from_dict(SPRING_25_OBR_FORECAST, country_id=\"uk\")\n",
    "\n",
    "link = f\"https://policyengine.org/uk/policy?reform={reform.api_id}&baseline={baseline.api_id}&region=uk&timePeriod=2029\"\n",
    "\n",
    "Markdown(f\"[See the policy in PolicyEngine]({link})\")"
   ]
  },
  {
   "cell_type": "markdown",
   "metadata": {},
   "source": [
    "## The forecast change\n",
    "\n",
    "In this report we'll focus on the changes to core economic variables: employment income, mixed income, non-labour income, and inflation. The tables below show the prior and new values for these variables (totals, £ billion)."
   ]
  },
  {
   "cell_type": "code",
   "execution_count": 57,
   "metadata": {},
   "outputs": [
    {
     "data": {
      "text/markdown": [
       "### Employment income\n",
       "\n",
       "|   Year |   Autumn 2024 |   Spring 2025 |   Change |\n",
       "|-------:|--------------:|--------------:|---------:|\n",
       "|   2025 |        1215.6 |        1215.6 |      0   |\n",
       "|   2026 |        1246.5 |        1231   |    -15.5 |\n",
       "|   2027 |        1277.7 |        1246.6 |    -31   |\n",
       "|   2028 |        1312.9 |        1264.2 |    -48.7 |\n",
       "|   2029 |        1352.9 |        1284.2 |    -68.7 |"
      ],
      "text/plain": [
       "<IPython.core.display.Markdown object>"
      ]
     },
     "execution_count": 57,
     "metadata": {},
     "output_type": "execute_result"
    }
   ],
   "source": [
    "# Create a table for the baseline and reform, column 1 is the baseline, column 2 is the reform, column 3 is the change. Years are rows\n",
    "\n",
    "def create_table(baseline, reform):\n",
    "    years = []\n",
    "    autumn_values = []\n",
    "    spring_values = []\n",
    "    change_values = []\n",
    "    variables = []\n",
    "    key_to_label = {\n",
    "        \"gov.obr.employment_income\": \"Employment income\",\n",
    "        \"gov.obr.mixed_income\": \"Mixed income\",\n",
    "        \"gov.obr.non_labour_income\": \"Non-labour income\",\n",
    "        \"gov.obr.consumer_price_index\": \"Consumer Price Index\",\n",
    "    }\n",
    "\n",
    "    for year in range(2025, 2030):\n",
    "        for key in baseline.keys():\n",
    "            years.append(year)\n",
    "            variables.append(key_to_label[key])\n",
    "            autumn_values.append(baseline[key][f\"year:{year}:1\"])\n",
    "            spring_values.append(reform[key][f\"year:{year}:1\"])\n",
    "            change_values.append(reform[key][f\"year:{year}:1\"] - baseline[key][f\"year:{year}:1\"])\n",
    "    \n",
    "    df = pd.DataFrame({\n",
    "        \"Year\": years,\n",
    "        \"Variable\": variables,\n",
    "        \"Autumn 2024\": autumn_values,\n",
    "        \"Spring 2025\": spring_values,\n",
    "        \"Change\": change_values,\n",
    "    })\n",
    "    df[\"Year\"] = df[\"Year\"].astype(str)\n",
    "    df[\"Autumn 2024\"] = df[\"Autumn 2024\"].round(1)\n",
    "    df[\"Spring 2025\"] = df[\"Spring 2025\"].round(1)\n",
    "    df[\"Change\"] = df[\"Change\"].round(1)\n",
    "\n",
    "    return df\n",
    "\n",
    "reform_table = create_table(AUTUMN_24_OBR_FORECAST, SPRING_25_OBR_FORECAST)\n",
    "\n",
    "def get_table(key):\n",
    "    return Markdown(f\"### {key}\\n\\n\" + reform_table[reform_table.Variable == key].drop(\"Variable\", axis=1).set_index(\"Year\").to_markdown())\n",
    "\n",
    "get_table(\"Employment income\")"
   ]
  },
  {
   "cell_type": "code",
   "execution_count": 58,
   "metadata": {},
   "outputs": [
    {
     "data": {
      "text/markdown": [
       "### Mixed income\n",
       "\n",
       "|   Year |   Autumn 2024 |   Spring 2025 |   Change |\n",
       "|-------:|--------------:|--------------:|---------:|\n",
       "|   2025 |         177.6 |         177.6 |        0 |\n",
       "|   2026 |         196.7 |         196.7 |        0 |\n",
       "|   2027 |         205.3 |         205.3 |        0 |\n",
       "|   2028 |         214.6 |         214.6 |        0 |\n",
       "|   2029 |         225   |         225   |        0 |"
      ],
      "text/plain": [
       "<IPython.core.display.Markdown object>"
      ]
     },
     "execution_count": 58,
     "metadata": {},
     "output_type": "execute_result"
    }
   ],
   "source": [
    "get_table(\"Mixed income\")"
   ]
  },
  {
   "cell_type": "code",
   "execution_count": 59,
   "metadata": {},
   "outputs": [
    {
     "data": {
      "text/markdown": [
       "### Non-labour income\n",
       "\n",
       "|   Year |   Autumn 2024 |   Spring 2025 |   Change |\n",
       "|-------:|--------------:|--------------:|---------:|\n",
       "|   2025 |         460.8 |         460.8 |        0 |\n",
       "|   2026 |         512.7 |         512.7 |        0 |\n",
       "|   2027 |         535   |         535   |        0 |\n",
       "|   2028 |         554   |         554   |        0 |\n",
       "|   2029 |         571.8 |         571.8 |        0 |"
      ],
      "text/plain": [
       "<IPython.core.display.Markdown object>"
      ]
     },
     "execution_count": 59,
     "metadata": {},
     "output_type": "execute_result"
    }
   ],
   "source": [
    "get_table(\"Non-labour income\")"
   ]
  },
  {
   "cell_type": "code",
   "execution_count": 60,
   "metadata": {},
   "outputs": [
    {
     "data": {
      "text/markdown": [
       "### Consumer Price Index\n",
       "\n",
       "|   Year |   Autumn 2024 |   Spring 2025 |   Change |\n",
       "|-------:|--------------:|--------------:|---------:|\n",
       "|   2025 |         138.1 |         138.1 |        0 |\n",
       "|   2026 |         141.1 |         141.1 |        0 |\n",
       "|   2027 |         144.1 |         144.1 |        0 |\n",
       "|   2028 |         147.1 |         147.1 |        0 |\n",
       "|   2029 |         150.1 |         150.1 |        0 |"
      ],
      "text/plain": [
       "<IPython.core.display.Markdown object>"
      ]
     },
     "execution_count": 60,
     "metadata": {},
     "output_type": "execute_result"
    }
   ],
   "source": [
    "get_table(\"Consumer Price Index\")"
   ]
  },
  {
   "cell_type": "markdown",
   "metadata": {},
   "source": [
    "## Public sector net worth\n",
    "\n",
    "The table below shows the change in public sector net worth as a result of the forecast change (change to government tax revenue forecast minus spending)."
   ]
  },
  {
   "cell_type": "code",
   "execution_count": 64,
   "metadata": {},
   "outputs": [
    {
     "data": {
      "text/markdown": [
       "|                          |   2025 |   2026 |   2027 |   2028 |   2029 |   2025-2029 |\n",
       "|:-------------------------|-------:|-------:|-------:|-------:|-------:|------------:|\n",
       "| PSNW change (£ billions) |      0 |   -7.4 |  -14.9 |  -23.3 |  -32.8 |       -78.4 |"
      ],
      "text/plain": [
       "<IPython.core.display.Markdown object>"
      ]
     },
     "execution_count": 64,
     "metadata": {},
     "output_type": "execute_result"
    }
   ],
   "source": [
    "# First, PSND from forecast changes\n",
    "psnd_change = []\n",
    "years = []\n",
    "for year in range(2025, 2030):\n",
    "    psnd_baseline = sim.baseline_simulation.calculate(\"gov_balance\", year).sum()/1e9\n",
    "    psnd_reform = sim.reform_simulation.calculate(\"gov_balance\", year).sum()/1e9\n",
    "    change = psnd_reform - psnd_baseline\n",
    "    psnd_change.append(round(change, 1))\n",
    "    years.append(year)\n",
    "\n",
    "years.append(\"2025-2029\")\n",
    "psnd_change.append(round(sum(psnd_change), 1))\n",
    "\n",
    "Markdown(pd.DataFrame({\"Year\": years, \"PSNW change (£ billions)\": psnd_change}).set_index(\"Year\").T.to_markdown())"
   ]
  },
  {
   "cell_type": "code",
   "execution_count": 68,
   "metadata": {},
   "outputs": [
    {
     "data": {
      "text/markdown": [
       "As shown, the OBR forecast update lowers the government budget by £78.4 billion over the period 2025-2029. Per year, this is on average £15.7 billion."
      ],
      "text/plain": [
       "<IPython.core.display.Markdown object>"
      ]
     },
     "execution_count": 68,
     "metadata": {},
     "output_type": "execute_result"
    }
   ],
   "source": [
    "Markdown(f\"As shown, the OBR forecast update lowers the government budget by £{-psnd_change[-1]} billion over the period 2025-2029. Per year, this is on average £{-round(psnd_change[-1]/5, 1)} billion.\")"
   ]
  },
  {
   "cell_type": "markdown",
   "metadata": {},
   "source": [
    "## Poverty rates\n",
    "\n",
    "The government reports annually on four poverty metrics:\n",
    "\n",
    "* **Absolute poverty before housing costs**: households with income below 60% of the 2010/11 median income, adjusted for inflation.\n",
    "* **Absolute poverty after housing costs**: households with income below 60% of the 2010/11 median income after housing costs, adjusted for inflation.\n",
    "* **Relative poverty before housing costs**: households with income below 60% of the median income in the current year.\n",
    "* **Relative poverty after housing costs**: households with income below 60% of the median incomeafter housing costs in the current year .\n",
    "\n",
    "For each of these metrics, we simulate the change in the poverty rate and headcount as a result of the forecast change."
   ]
  },
  {
   "cell_type": "code",
   "execution_count": 77,
   "metadata": {},
   "outputs": [],
   "source": [
    "def get_poverty(simulation, year, absolute, bhc, rate):\n",
    "    population = simulation.calculate(\"person_id\", year).count()\n",
    "    if absolute:\n",
    "        if bhc:\n",
    "            in_poverty = simulation.calculate(\"in_poverty\", year, map_to=\"person\").sum()\n",
    "        else:\n",
    "            in_poverty = simulation.calculate(\"in_poverty_ahc\", year, map_to=\"person\").sum()\n",
    "    else:\n",
    "        if bhc:\n",
    "            in_poverty = simulation.calculate(\"in_relative_poverty_bhc\", year, map_to=\"person\").sum()\n",
    "        else:\n",
    "            in_poverty = simulation.calculate(\"in_relative_poverty_ahc\", year, map_to=\"person\").sum()\n",
    "\n",
    "    if rate:\n",
    "        return round(in_poverty/population * 100, 1)\n",
    "\n",
    "    else:\n",
    "        return round(in_poverty / 1e3)\n"
   ]
  },
  {
   "cell_type": "code",
   "execution_count": 82,
   "metadata": {},
   "outputs": [
    {
     "data": {
      "text/markdown": [
       "### Absolute poverty before housing costs\n",
       "\n",
       "|   Year |   Autumn EFO rate (%) |   Autumn EFO headcount (thousands) |   Spring EFO rate (%) |   Spring EFO headcount (thousands) |   Change in rate (%) |   Change in headcount (thousands) |\n",
       "|-------:|----------------------:|-----------------------------------:|----------------------:|-----------------------------------:|---------------------:|----------------------------------:|\n",
       "|   2025 |                  12.5 |                               9125 |                  12.5 |                               9125 |                  0   |                                 0 |\n",
       "|   2026 |                  12.3 |                               9025 |                  12.3 |                               9057 |                  0   |                                32 |\n",
       "|   2027 |                  12.3 |                               9113 |                  12.9 |                               9532 |                  0.6 |                               419 |\n",
       "|   2028 |                  12.3 |                               9101 |                  12.8 |                               9526 |                  0.5 |                               425 |\n",
       "|   2029 |                  12.4 |                               9206 |                  13   |                               9682 |                  0.6 |                               476 |"
      ],
      "text/plain": [
       "<IPython.core.display.Markdown object>"
      ]
     },
     "execution_count": 82,
     "metadata": {},
     "output_type": "execute_result"
    }
   ],
   "source": [
    "def get_rate_table(absolute, bhc):\n",
    "    years = []\n",
    "    poverty_rates_autumn = []\n",
    "    headcounts_autumn = []\n",
    "    poverty_rates_spring = []\n",
    "    headcounts_spring = []\n",
    "    change_rates = []\n",
    "    change_headcounts = []\n",
    "    for year in range(2025, 2030):\n",
    "        years.append(year)\n",
    "        poverty_rates_autumn.append(get_poverty(sim.baseline_simulation, year, absolute, bhc, rate=True))\n",
    "        poverty_rates_spring.append(get_poverty(sim.reform_simulation, year, absolute, bhc, rate=True))\n",
    "        headcounts_autumn.append(get_poverty(sim.baseline_simulation, year, absolute, bhc, rate=False))\n",
    "        headcounts_spring.append(get_poverty(sim.reform_simulation, year, absolute, bhc, rate=False))\n",
    "        change_rates.append(round(poverty_rates_spring[-1] - poverty_rates_autumn[-1], 1))\n",
    "        change_headcounts.append(round(headcounts_spring[-1] - headcounts_autumn[-1], 0))\n",
    "    \n",
    "    df = pd.DataFrame({\n",
    "        \"Year\": years,\n",
    "        \"Autumn EFO rate (%)\": poverty_rates_autumn,\n",
    "        \"Autumn EFO headcount (thousands)\": headcounts_autumn,\n",
    "        \"Spring EFO rate (%)\": poverty_rates_spring,\n",
    "        \"Spring EFO headcount (thousands)\": headcounts_spring,\n",
    "        \"Change in rate (%)\": change_rates,\n",
    "        \"Change in headcount (thousands)\": change_headcounts,\n",
    "    })\n",
    "\n",
    "    title = \"Absolute poverty\" if absolute else \"Relative poverty\"\n",
    "    title += \" before housing costs\" if bhc else \" after housing costs\"\n",
    "\n",
    "    return Markdown(f\"### {title}\\n\\n\" + df.set_index(\"Year\").to_markdown())\n",
    "\n",
    "get_rate_table(absolute=True, bhc=True)"
   ]
  },
  {
   "cell_type": "code",
   "execution_count": 83,
   "metadata": {},
   "outputs": [
    {
     "data": {
      "text/markdown": [
       "### Absolute poverty after housing costs\n",
       "\n",
       "|   Year |   Autumn EFO rate (%) |   Autumn EFO headcount (thousands) |   Spring EFO rate (%) |   Spring EFO headcount (thousands) |   Change in rate (%) |   Change in headcount (thousands) |\n",
       "|-------:|----------------------:|-----------------------------------:|----------------------:|-----------------------------------:|---------------------:|----------------------------------:|\n",
       "|   2025 |                  16.1 |                              11713 |                  16.1 |                              11713 |                  0   |                                 0 |\n",
       "|   2026 |                  16.1 |                              11777 |                  16.2 |                              11856 |                  0.1 |                                79 |\n",
       "|   2027 |                  16.2 |                              11980 |                  16.5 |                              12197 |                  0.3 |                               217 |\n",
       "|   2028 |                  16.3 |                              12082 |                  16.6 |                              12347 |                  0.3 |                               265 |\n",
       "|   2029 |                  16.4 |                              12196 |                  16.9 |                              12593 |                  0.5 |                               397 |"
      ],
      "text/plain": [
       "<IPython.core.display.Markdown object>"
      ]
     },
     "execution_count": 83,
     "metadata": {},
     "output_type": "execute_result"
    }
   ],
   "source": [
    "get_rate_table(absolute=True, bhc=False)"
   ]
  },
  {
   "cell_type": "code",
   "execution_count": 84,
   "metadata": {},
   "outputs": [
    {
     "data": {
      "text/markdown": [
       "### Relative poverty after housing costs\n",
       "\n",
       "|   Year |   Autumn EFO rate (%) |   Autumn EFO headcount (thousands) |   Spring EFO rate (%) |   Spring EFO headcount (thousands) |   Change in rate (%) |   Change in headcount (thousands) |\n",
       "|-------:|----------------------:|-----------------------------------:|----------------------:|-----------------------------------:|---------------------:|----------------------------------:|\n",
       "|   2025 |                  21.4 |                              15569 |                  21.4 |                              15569 |                  0   |                                 0 |\n",
       "|   2026 |                  21.2 |                              15562 |                  21.2 |                              15544 |                  0   |                               -18 |\n",
       "|   2027 |                  21.3 |                              15757 |                  21.2 |                              15670 |                 -0.1 |                               -87 |\n",
       "|   2028 |                  21.3 |                              15821 |                  21.3 |                              15832 |                  0   |                                11 |\n",
       "|   2029 |                  20.9 |                              15548 |                  21.3 |                              15866 |                  0.4 |                               318 |"
      ],
      "text/plain": [
       "<IPython.core.display.Markdown object>"
      ]
     },
     "execution_count": 84,
     "metadata": {},
     "output_type": "execute_result"
    }
   ],
   "source": [
    "get_rate_table(absolute=False, bhc=False)"
   ]
  },
  {
   "cell_type": "code",
   "execution_count": 85,
   "metadata": {},
   "outputs": [
    {
     "data": {
      "text/markdown": [
       "### Relative poverty after housing costs\n",
       "\n",
       "|   Year |   Autumn EFO rate (%) |   Autumn EFO headcount (thousands) |   Spring EFO rate (%) |   Spring EFO headcount (thousands) |   Change in rate (%) |   Change in headcount (thousands) |\n",
       "|-------:|----------------------:|-----------------------------------:|----------------------:|-----------------------------------:|---------------------:|----------------------------------:|\n",
       "|   2025 |                  21.4 |                              15569 |                  21.4 |                              15569 |                  0   |                                 0 |\n",
       "|   2026 |                  21.2 |                              15562 |                  21.2 |                              15544 |                  0   |                               -18 |\n",
       "|   2027 |                  21.3 |                              15757 |                  21.2 |                              15670 |                 -0.1 |                               -87 |\n",
       "|   2028 |                  21.3 |                              15821 |                  21.3 |                              15832 |                  0   |                                11 |\n",
       "|   2029 |                  20.9 |                              15548 |                  21.3 |                              15866 |                  0.4 |                               318 |"
      ],
      "text/plain": [
       "<IPython.core.display.Markdown object>"
      ]
     },
     "execution_count": 85,
     "metadata": {},
     "output_type": "execute_result"
    }
   ],
   "source": [
    "get_rate_table(absolute=False, bhc=False)"
   ]
  },
  {
   "cell_type": "markdown",
   "metadata": {},
   "source": [
    "## Inequality\n",
    "\n",
    "We also project income inequality metrics in PolicyEngine's open source model, including the Gini coefficient, the share of income held by the top 10 percent, and the share of income held by the top 1 percent."
   ]
  },
  {
   "cell_type": "code",
   "execution_count": 93,
   "metadata": {},
   "outputs": [
    {
     "data": {
      "text/markdown": [
       "### Gini coefficient\n",
       "\n",
       "|   Year |   Autumn EFO |   Spring EFO |   Change (pp) |   Change (%) |\n",
       "|-------:|-------------:|-------------:|--------------:|-------------:|\n",
       "|   2025 |         35.3 |         35.3 |           0   |          0   |\n",
       "|   2026 |         35.5 |         35.5 |          -0.1 |         -0.2 |\n",
       "|   2027 |         35.6 |         35.5 |          -0.1 |         -0.3 |\n",
       "|   2028 |         35.6 |         35.5 |          -0.2 |         -0.5 |\n",
       "|   2029 |         35.7 |         35.5 |          -0.2 |         -0.6 |"
      ],
      "text/plain": [
       "<IPython.core.display.Markdown object>"
      ]
     },
     "execution_count": 93,
     "metadata": {},
     "output_type": "execute_result"
    }
   ],
   "source": [
    "def get_inequality_table(metric):\n",
    "    years = []\n",
    "    autumn_values = []\n",
    "    spring_values = []\n",
    "    change_values = []\n",
    "    change_values_pct = []\n",
    "\n",
    "    for year in range(2025, 2030):\n",
    "        if metric == \"Gini coefficient\":\n",
    "            autumn_values.append(sim.baseline_simulation.calculate(\"equiv_household_net_income\", year).gini() * 100)\n",
    "            spring_values.append(sim.reform_simulation.calculate(\"equiv_household_net_income\", year).gini() * 100)\n",
    "        elif metric == \"Top 10% share\":\n",
    "            autumn_values.append(sim.baseline_simulation.calculate(\"equiv_household_net_income\", year).top_10_pct_share() * 100)\n",
    "            spring_values.append(sim.reform_simulation.calculate(\"equiv_household_net_income\", year).top_10_pct_share() * 100)\n",
    "        elif metric == \"Top 1% share\":\n",
    "            autumn_values.append(sim.baseline_simulation.calculate(\"equiv_household_net_income\", year).top_1_pct_share() * 100)\n",
    "            spring_values.append(sim.reform_simulation.calculate(\"equiv_household_net_income\", year).top_1_pct_share() * 100)\n",
    "        years.append(year)\n",
    "        change_values.append(round(spring_values[-1] - autumn_values[-1], 1))\n",
    "        change_values_pct.append(round((spring_values[-1] - autumn_values[-1])/autumn_values[-1] * 100, 1))\n",
    "\n",
    "    df = pd.DataFrame({\n",
    "        \"Year\": years,\n",
    "        \"Autumn EFO\": autumn_values,\n",
    "        \"Spring EFO\": spring_values,\n",
    "        \"Change (pp)\": change_values,\n",
    "        \"Change (%)\": change_values_pct,\n",
    "    })\n",
    "\n",
    "    df[\"Autumn EFO\"] = df[\"Autumn EFO\"].round(1)\n",
    "    df[\"Spring EFO\"] = df[\"Spring EFO\"].round(1)\n",
    "\n",
    "    return Markdown(f\"### {metric}\\n\\n\" + df.set_index(\"Year\").to_markdown())\n",
    "\n",
    "get_inequality_table(\"Gini coefficient\")\n"
   ]
  },
  {
   "cell_type": "code",
   "execution_count": 94,
   "metadata": {},
   "outputs": [
    {
     "data": {
      "text/markdown": [
       "### Top 10% share\n",
       "\n",
       "|   Year |   Autumn EFO |   Spring EFO |   Change (pp) |   Change (%) |\n",
       "|-------:|-------------:|-------------:|--------------:|-------------:|\n",
       "|   2025 |         27.2 |         27.2 |           0   |          0   |\n",
       "|   2026 |         27.5 |         27.5 |           0   |          0.1 |\n",
       "|   2027 |         27.5 |         27.4 |          -0.1 |         -0.4 |\n",
       "|   2028 |         27.6 |         27.6 |          -0.1 |         -0.2 |\n",
       "|   2029 |         27.8 |         27.6 |          -0.2 |         -0.8 |"
      ],
      "text/plain": [
       "<IPython.core.display.Markdown object>"
      ]
     },
     "execution_count": 94,
     "metadata": {},
     "output_type": "execute_result"
    }
   ],
   "source": [
    "get_inequality_table(\"Top 10% share\")"
   ]
  },
  {
   "cell_type": "code",
   "execution_count": 95,
   "metadata": {},
   "outputs": [
    {
     "data": {
      "text/markdown": [
       "### Top 1% share\n",
       "\n",
       "|   Year |   Autumn EFO |   Spring EFO |   Change (pp) |   Change (%) |\n",
       "|-------:|-------------:|-------------:|--------------:|-------------:|\n",
       "|   2025 |          7.9 |          7.9 |           0   |          0   |\n",
       "|   2026 |          8.2 |          8.2 |           0   |          0.2 |\n",
       "|   2027 |          8.2 |          8.3 |           0   |          0.5 |\n",
       "|   2028 |          8.3 |          8.4 |           0.1 |          0.9 |\n",
       "|   2029 |          8.3 |          8.5 |           0.1 |          1.5 |"
      ],
      "text/plain": [
       "<IPython.core.display.Markdown object>"
      ]
     },
     "execution_count": 95,
     "metadata": {},
     "output_type": "execute_result"
    }
   ],
   "source": [
    "get_inequality_table(\"Top 1% share\")"
   ]
  },
  {
   "cell_type": "code",
   "execution_count": null,
   "metadata": {},
   "outputs": [],
   "source": []
  }
 ],
 "metadata": {
  "kernelspec": {
   "display_name": ".venv",
   "language": "python",
   "name": "python3"
  },
  "language_info": {
   "codemirror_mode": {
    "name": "ipython",
    "version": 3
   },
   "file_extension": ".py",
   "mimetype": "text/x-python",
   "name": "python",
   "nbconvert_exporter": "python",
   "pygments_lexer": "ipython3",
   "version": "3.11.11"
  }
 },
 "nbformat": 4,
 "nbformat_minor": 2
}
