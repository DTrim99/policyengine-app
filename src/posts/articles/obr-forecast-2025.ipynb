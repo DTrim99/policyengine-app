{
 "cells": [
  {
   "cell_type": "markdown",
   "metadata": {},
   "source": [
    "Today, the Office for Budget Responsibility releases its Spring 2025 Economic and Fiscal Outlook. The OBR is an independent body that produces economic and fiscal forecasts for the UK government.\n",
    "\n",
    "In this report, we'll integrate the OBR's new Spring forecast into PolicyEngine's tax-benefit microsimulation model, and examine the impact this new forecast (against the Autumn 2024 EFO) on the UK household sector. All impacts below are the impact of this forecast change *alone*, excluding any policy measures not already in the baseline policy."
   ]
  },
  {
   "cell_type": "code",
   "execution_count": 35,
   "metadata": {},
   "outputs": [
    {
     "data": {
      "text/markdown": [
       "[See the policy in PolicyEngine](https://policyengine.org/uk/policy?reform=80223&baseline=80215&region=uk&timePeriod=2029)"
      ],
      "text/plain": [
       "<IPython.core.display.Markdown object>"
      ]
     },
     "execution_count": 35,
     "metadata": {},
     "output_type": "execute_result"
    }
   ],
   "source": [
    "from policyengine import Simulation\n",
    "\n",
    "\n",
    "# Autumn 2024 OBR Forecast\n",
    "AUTUMN_24_OBR_FORECAST = {\n",
    "    \"gov.obr.employment_income\": {\n",
    "        \"year:2025:1\": 1215.6,\n",
    "        \"year:2026:1\": 1246.5,\n",
    "        \"year:2027:1\": 1277.7,\n",
    "        \"year:2028:1\": 1312.9,\n",
    "        \"year:2029:1\": 1352.9,\n",
    "        \"year:2030:1\": 1380.36,\n",
    "        \"year:2031:1\": 1407.82,\n",
    "        \"year:2032:1\": 1435.28,\n",
    "        \"year:2033:1\": 1462.74,\n",
    "        \"year:2034:1\": 1490.2,\n",
    "    },\n",
    "    \"gov.obr.mixed_income\": {\n",
    "        \"year:2025:1\": 177.6,\n",
    "        \"year:2026:1\": 196.7,\n",
    "        \"year:2027:1\": 205.3,\n",
    "        \"year:2028:1\": 214.6,\n",
    "        \"year:2029:1\": 225.0,\n",
    "        \"year:2030:1\": 232.34,\n",
    "        \"year:2031:1\": 239.68,\n",
    "        \"year:2032:1\": 247.02,\n",
    "        \"year:2033:1\": 254.36,\n",
    "        \"year:2034:1\": 261.7,\n",
    "    },\n",
    "    \"gov.obr.non_labour_income\": {\n",
    "        \"year:2025:1\": 460.8,\n",
    "        \"year:2026:1\": 512.7,\n",
    "        \"year:2027:1\": 535.0,\n",
    "        \"year:2028:1\": 554.0,\n",
    "        \"year:2029:1\": 571.8,\n",
    "        \"year:2030:1\": 588.38,\n",
    "        \"year:2031:1\": 604.96,\n",
    "        \"year:2032:1\": 621.54,\n",
    "        \"year:2033:1\": 638.12,\n",
    "        \"year:2034:1\": 654.7,\n",
    "    },\n",
    "    \"gov.obr.consumer_price_index\": {\n",
    "        \"year:2025:1\": 138.1,\n",
    "        \"year:2026:1\": 141.1,\n",
    "        \"year:2027:1\": 144.1,\n",
    "        \"year:2028:1\": 147.1,\n",
    "        \"year:2029:1\": 150.1,\n",
    "        \"year:2030:1\": 152.5,\n",
    "        \"year:2031:1\": 154.9,\n",
    "        \"year:2032:1\": 157.3,\n",
    "        \"year:2033:1\": 159.7,\n",
    "        \"year:2034:1\": 162.1,\n",
    "    },\n",
    "}\n",
    "\n",
    "# Spring 2025 OBR Forecast - Default to Autumn 2024 values, update these when the new forecast is released\n",
    "SPRING_25_OBR_FORECAST = {\n",
    "    \"gov.obr.employment_income\": {\n",
    "        \"year:2025:1\": 1215.6,\n",
    "        \"year:2026:1\": 1246.5,\n",
    "        \"year:2027:1\": 1277.7,\n",
    "        \"year:2028:1\": 1312.9,\n",
    "        \"year:2029:1\": 1352.9,\n",
    "        \"year:2030:1\": 1380.36,\n",
    "        \"year:2031:1\": 1407.82,\n",
    "        \"year:2032:1\": 1435.28,\n",
    "        \"year:2033:1\": 1462.74,\n",
    "        \"year:2034:1\": 1490.2,\n",
    "    },\n",
    "    \"gov.obr.mixed_income\": {\n",
    "        \"year:2025:1\": 177.6,\n",
    "        \"year:2026:1\": 196.7,\n",
    "        \"year:2027:1\": 205.3,\n",
    "        \"year:2028:1\": 214.6,\n",
    "        \"year:2029:1\": 225.0,\n",
    "        \"year:2030:1\": 232.34,\n",
    "        \"year:2031:1\": 239.68,\n",
    "        \"year:2032:1\": 247.02,\n",
    "        \"year:2033:1\": 254.36,\n",
    "        \"year:2034:1\": 261.7,\n",
    "    },\n",
    "    \"gov.obr.non_labour_income\": {\n",
    "        \"year:2025:1\": 460.8,\n",
    "        \"year:2026:1\": 512.7,\n",
    "        \"year:2027:1\": 535.0,\n",
    "        \"year:2028:1\": 554.0,\n",
    "        \"year:2029:1\": 571.8,\n",
    "        \"year:2030:1\": 588.38,\n",
    "        \"year:2031:1\": 604.96,\n",
    "        \"year:2032:1\": 621.54,\n",
    "        \"year:2033:1\": 638.12,\n",
    "        \"year:2034:1\": 654.7,\n",
    "    },\n",
    "    \"gov.obr.consumer_price_index\": {\n",
    "        \"year:2025:1\": 138.1,\n",
    "        \"year:2026:1\": 141.1,\n",
    "        \"year:2027:1\": 144.1,\n",
    "        \"year:2028:1\": 147.1,\n",
    "        \"year:2029:1\": 150.1,\n",
    "        \"year:2030:1\": 152.5,\n",
    "        \"year:2031:1\": 154.9,\n",
    "        \"year:2032:1\": 157.3,\n",
    "        \"year:2033:1\": 159.7,\n",
    "        \"year:2034:1\": 162.1,\n",
    "    },\n",
    "}\n",
    "\n",
    "# As a test- halve earnings growth params\n",
    "\n",
    "for year in range(2026, 2030):\n",
    "    # Calculate growth in autumn forecast\n",
    "    earnings_growth = AUTUMN_24_OBR_FORECAST[\"gov.obr.employment_income\"][f\"year:{year}:1\"] - AUTUMN_24_OBR_FORECAST[\"gov.obr.employment_income\"][f\"year:{year-1}:1\"]\n",
    "    # Update spring forecast with halved growth\n",
    "    SPRING_25_OBR_FORECAST[\"gov.obr.employment_income\"][f\"year:{year}:1\"] = SPRING_25_OBR_FORECAST[\"gov.obr.employment_income\"][f\"year:{year-1}:1\"] + earnings_growth/2\n",
    "\n",
    "sim = Simulation(\n",
    "    country=\"uk\",\n",
    "    scope=\"macro\",\n",
    "    baseline=AUTUMN_24_OBR_FORECAST,\n",
    "    reform=SPRING_25_OBR_FORECAST,\n",
    ")\n",
    "\n",
    "from policyengine_core.reforms import Reform\n",
    "from IPython.display import Markdown\n",
    "import pandas as pd\n",
    "\n",
    "baseline = Reform.from_dict(AUTUMN_24_OBR_FORECAST, country_id=\"uk\")\n",
    "reform = Reform.from_dict(SPRING_25_OBR_FORECAST, country_id=\"uk\")\n",
    "\n",
    "link = f\"https://policyengine.org/uk/policy?reform={reform.api_id}&baseline={baseline.api_id}&region=uk&timePeriod=2029\"\n",
    "\n",
    "Markdown(f\"[See the policy in PolicyEngine]({link})\")"
   ]
  },
  {
   "cell_type": "markdown",
   "metadata": {},
   "source": [
    "## The forecast change\n",
    "\n",
    "In this report we'll focus on the changes to core economic variables: employment income, mixed income, non-labour income, and inflation. The tables below show the prior and new values for these variables (totals, £ billion)."
   ]
  },
  {
   "cell_type": "code",
   "execution_count": 57,
   "metadata": {},
   "outputs": [
    {
     "data": {
      "text/markdown": [
       "### Employment income\n",
       "\n",
       "|   Year |   Autumn 2024 |   Spring 2025 |   Change |\n",
       "|-------:|--------------:|--------------:|---------:|\n",
       "|   2025 |        1215.6 |        1215.6 |      0   |\n",
       "|   2026 |        1246.5 |        1231   |    -15.5 |\n",
       "|   2027 |        1277.7 |        1246.6 |    -31   |\n",
       "|   2028 |        1312.9 |        1264.2 |    -48.7 |\n",
       "|   2029 |        1352.9 |        1284.2 |    -68.7 |"
      ],
      "text/plain": [
       "<IPython.core.display.Markdown object>"
      ]
     },
     "execution_count": 57,
     "metadata": {},
     "output_type": "execute_result"
    }
   ],
   "source": [
    "# Create a table for the baseline and reform, column 1 is the baseline, column 2 is the reform, column 3 is the change. Years are rows\n",
    "\n",
    "def create_table(baseline, reform):\n",
    "    years = []\n",
    "    autumn_values = []\n",
    "    spring_values = []\n",
    "    change_values = []\n",
    "    variables = []\n",
    "    key_to_label = {\n",
    "        \"gov.obr.employment_income\": \"Employment income\",\n",
    "        \"gov.obr.mixed_income\": \"Mixed income\",\n",
    "        \"gov.obr.non_labour_income\": \"Non-labour income\",\n",
    "        \"gov.obr.consumer_price_index\": \"Consumer Price Index\",\n",
    "    }\n",
    "\n",
    "    for year in range(2025, 2030):\n",
    "        for key in baseline.keys():\n",
    "            years.append(year)\n",
    "            variables.append(key_to_label[key])\n",
    "            autumn_values.append(baseline[key][f\"year:{year}:1\"])\n",
    "            spring_values.append(reform[key][f\"year:{year}:1\"])\n",
    "            change_values.append(reform[key][f\"year:{year}:1\"] - baseline[key][f\"year:{year}:1\"])\n",
    "    \n",
    "    df = pd.DataFrame({\n",
    "        \"Year\": years,\n",
    "        \"Variable\": variables,\n",
    "        \"Autumn 2024\": autumn_values,\n",
    "        \"Spring 2025\": spring_values,\n",
    "        \"Change\": change_values,\n",
    "    })\n",
    "    df[\"Year\"] = df[\"Year\"].astype(str)\n",
    "    df[\"Autumn 2024\"] = df[\"Autumn 2024\"].round(1)\n",
    "    df[\"Spring 2025\"] = df[\"Spring 2025\"].round(1)\n",
    "    df[\"Change\"] = df[\"Change\"].round(1)\n",
    "\n",
    "    return df\n",
    "\n",
    "reform_table = create_table(AUTUMN_24_OBR_FORECAST, SPRING_25_OBR_FORECAST)\n",
    "\n",
    "def get_table(key):\n",
    "    return Markdown(f\"### {key}\\n\\n\" + reform_table[reform_table.Variable == key].drop(\"Variable\", axis=1).set_index(\"Year\").to_markdown())\n",
    "\n",
    "get_table(\"Employment income\")"
   ]
  },
  {
   "cell_type": "code",
   "execution_count": 58,
   "metadata": {},
   "outputs": [
    {
     "data": {
      "text/markdown": [
       "### Mixed income\n",
       "\n",
       "|   Year |   Autumn 2024 |   Spring 2025 |   Change |\n",
       "|-------:|--------------:|--------------:|---------:|\n",
       "|   2025 |         177.6 |         177.6 |        0 |\n",
       "|   2026 |         196.7 |         196.7 |        0 |\n",
       "|   2027 |         205.3 |         205.3 |        0 |\n",
       "|   2028 |         214.6 |         214.6 |        0 |\n",
       "|   2029 |         225   |         225   |        0 |"
      ],
      "text/plain": [
       "<IPython.core.display.Markdown object>"
      ]
     },
     "execution_count": 58,
     "metadata": {},
     "output_type": "execute_result"
    }
   ],
   "source": [
    "get_table(\"Mixed income\")"
   ]
  },
  {
   "cell_type": "code",
   "execution_count": 59,
   "metadata": {},
   "outputs": [
    {
     "data": {
      "text/markdown": [
       "### Non-labour income\n",
       "\n",
       "|   Year |   Autumn 2024 |   Spring 2025 |   Change |\n",
       "|-------:|--------------:|--------------:|---------:|\n",
       "|   2025 |         460.8 |         460.8 |        0 |\n",
       "|   2026 |         512.7 |         512.7 |        0 |\n",
       "|   2027 |         535   |         535   |        0 |\n",
       "|   2028 |         554   |         554   |        0 |\n",
       "|   2029 |         571.8 |         571.8 |        0 |"
      ],
      "text/plain": [
       "<IPython.core.display.Markdown object>"
      ]
     },
     "execution_count": 59,
     "metadata": {},
     "output_type": "execute_result"
    }
   ],
   "source": [
    "get_table(\"Non-labour income\")"
   ]
  },
  {
   "cell_type": "code",
   "execution_count": 60,
   "metadata": {},
   "outputs": [
    {
     "data": {
      "text/markdown": [
       "### Consumer Price Index\n",
       "\n",
       "|   Year |   Autumn 2024 |   Spring 2025 |   Change |\n",
       "|-------:|--------------:|--------------:|---------:|\n",
       "|   2025 |         138.1 |         138.1 |        0 |\n",
       "|   2026 |         141.1 |         141.1 |        0 |\n",
       "|   2027 |         144.1 |         144.1 |        0 |\n",
       "|   2028 |         147.1 |         147.1 |        0 |\n",
       "|   2029 |         150.1 |         150.1 |        0 |"
      ],
      "text/plain": [
       "<IPython.core.display.Markdown object>"
      ]
     },
     "execution_count": 60,
     "metadata": {},
     "output_type": "execute_result"
    }
   ],
   "source": [
    "get_table(\"Consumer Price Index\")"
   ]
  },
  {
   "cell_type": "markdown",
   "metadata": {},
   "source": [
    "## Public sector net worth\n",
    "\n",
    "The table below shows the change in public sector net worth as a result of the forecast change (change to government tax revenue forecast minus spending)."
   ]
  },
  {
   "cell_type": "code",
   "execution_count": 64,
   "metadata": {},
   "outputs": [
    {
     "data": {
      "text/markdown": [
       "|                          |   2025 |   2026 |   2027 |   2028 |   2029 |   2025-2029 |\n",
       "|:-------------------------|-------:|-------:|-------:|-------:|-------:|------------:|\n",
       "| PSNW change (£ billions) |      0 |   -7.4 |  -14.9 |  -23.3 |  -32.8 |       -78.4 |"
      ],
      "text/plain": [
       "<IPython.core.display.Markdown object>"
      ]
     },
     "execution_count": 64,
     "metadata": {},
     "output_type": "execute_result"
    }
   ],
   "source": [
    "# First, PSND from forecast changes\n",
    "psnd_change = []\n",
    "years = []\n",
    "for year in range(2025, 2030):\n",
    "    psnd_baseline = sim.baseline_simulation.calculate(\"gov_balance\", year).sum()/1e9\n",
    "    psnd_reform = sim.reform_simulation.calculate(\"gov_balance\", year).sum()/1e9\n",
    "    change = psnd_reform - psnd_baseline\n",
    "    psnd_change.append(round(change, 1))\n",
    "    years.append(year)\n",
    "\n",
    "years.append(\"2025-2029\")\n",
    "psnd_change.append(round(sum(psnd_change), 1))\n",
    "\n",
    "Markdown(pd.DataFrame({\"Year\": years, \"PSNW change (£ billions)\": psnd_change}).set_index(\"Year\").T.to_markdown())"
   ]
  },
  {
   "cell_type": "code",
   "execution_count": 68,
   "metadata": {},
   "outputs": [
    {
     "data": {
      "text/markdown": [
       "As shown, the OBR forecast update lowers the government budget by £78.4 billion over the period 2025-2029. Per year, this is on average £15.7 billion."
      ],
      "text/plain": [
       "<IPython.core.display.Markdown object>"
      ]
     },
     "execution_count": 68,
     "metadata": {},
     "output_type": "execute_result"
    }
   ],
   "source": [
    "Markdown(f\"As shown, the OBR forecast update lowers the government budget by £{-psnd_change[-1]} billion over the period 2025-2029. Per year, this is on average £{-round(psnd_change[-1]/5, 1)} billion.\")"
   ]
  },
  {
   "cell_type": "markdown",
   "metadata": {},
   "source": [
    "## Poverty rates\n",
    "\n",
    "The government reports annually on four poverty metrics:\n",
    "\n",
    "* **Absolute poverty before housing costs**: households with income below 60% of the 2010/11 median income, adjusted for inflation.\n",
    "* **Absolute poverty after housing costs**: households with income below 60% of the 2010/11 median income after housing costs, adjusted for inflation.\n",
    "* **Relative poverty before housing costs**: households with income below 60% of the median income in the current year.\n",
    "* **Relative poverty after housing costs**: households with income below 60% of the median incomeafter housing costs in the current year .\n",
    "\n",
    "For each of these metrics, we simulate the change in the poverty rate and headcount as a result of the forecast change."
   ]
  },
  {
   "cell_type": "code",
   "execution_count": 77,
   "metadata": {},
   "outputs": [],
   "source": [
    "def get_poverty(simulation, year, absolute, bhc, rate):\n",
    "    population = simulation.calculate(\"person_id\", year).count()\n",
    "    if absolute:\n",
    "        if bhc:\n",
    "            in_poverty = simulation.calculate(\"in_poverty\", year, map_to=\"person\").sum()\n",
    "        else:\n",
    "            in_poverty = simulation.calculate(\"in_poverty_ahc\", year, map_to=\"person\").sum()\n",
    "    else:\n",
    "        if bhc:\n",
    "            in_poverty = simulation.calculate(\"in_relative_poverty_bhc\", year, map_to=\"person\").sum()\n",
    "        else:\n",
    "            in_poverty = simulation.calculate(\"in_relative_poverty_ahc\", year, map_to=\"person\").sum()\n",
    "\n",
    "    if rate:\n",
    "        return round(in_poverty/population * 100, 1)\n",
    "\n",
    "    else:\n",
    "        return round(in_poverty / 1e3)\n"
   ]
  },
  {
   "cell_type": "code",
   "execution_count": 82,
   "metadata": {},
   "outputs": [
    {
     "data": {
      "text/markdown": [
       "### Absolute poverty before housing costs\n",
       "\n",
       "|   Year |   Autumn EFO rate (%) |   Autumn EFO headcount (thousands) |   Spring EFO rate (%) |   Spring EFO headcount (thousands) |   Change in rate (%) |   Change in headcount (thousands) |\n",
       "|-------:|----------------------:|-----------------------------------:|----------------------:|-----------------------------------:|---------------------:|----------------------------------:|\n",
       "|   2025 |                  12.5 |                               9125 |                  12.5 |                               9125 |                  0   |                                 0 |\n",
       "|   2026 |                  12.3 |                               9025 |                  12.3 |                               9057 |                  0   |                                32 |\n",
       "|   2027 |                  12.3 |                               9113 |                  12.9 |                               9532 |                  0.6 |                               419 |\n",
       "|   2028 |                  12.3 |                               9101 |                  12.8 |                               9526 |                  0.5 |                               425 |\n",
       "|   2029 |                  12.4 |                               9206 |                  13   |                               9682 |                  0.6 |                               476 |"
      ],
      "text/plain": [
       "<IPython.core.display.Markdown object>"
      ]
     },
     "execution_count": 82,
     "metadata": {},
     "output_type": "execute_result"
    }
   ],
   "source": [
    "def get_rate_table(absolute, bhc):\n",
    "    years = []\n",
    "    poverty_rates_autumn = []\n",
    "    headcounts_autumn = []\n",
    "    poverty_rates_spring = []\n",
    "    headcounts_spring = []\n",
    "    change_rates = []\n",
    "    change_headcounts = []\n",
    "    for year in range(2025, 2030):\n",
    "        years.append(year)\n",
    "        poverty_rates_autumn.append(get_poverty(sim.baseline_simulation, year, absolute, bhc, rate=True))\n",
    "        poverty_rates_spring.append(get_poverty(sim.reform_simulation, year, absolute, bhc, rate=True))\n",
    "        headcounts_autumn.append(get_poverty(sim.baseline_simulation, year, absolute, bhc, rate=False))\n",
    "        headcounts_spring.append(get_poverty(sim.reform_simulation, year, absolute, bhc, rate=False))\n",
    "        change_rates.append(round(poverty_rates_spring[-1] - poverty_rates_autumn[-1], 1))\n",
    "        change_headcounts.append(round(headcounts_spring[-1] - headcounts_autumn[-1], 0))\n",
    "    \n",
    "    df = pd.DataFrame({\n",
    "        \"Year\": years,\n",
    "        \"Autumn EFO rate (%)\": poverty_rates_autumn,\n",
    "        \"Autumn EFO headcount (thousands)\": headcounts_autumn,\n",
    "        \"Spring EFO rate (%)\": poverty_rates_spring,\n",
    "        \"Spring EFO headcount (thousands)\": headcounts_spring,\n",
    "        \"Change in rate (%)\": change_rates,\n",
    "        \"Change in headcount (thousands)\": change_headcounts,\n",
    "    })\n",
    "\n",
    "    title = \"Absolute poverty\" if absolute else \"Relative poverty\"\n",
    "    title += \" before housing costs\" if bhc else \" after housing costs\"\n",
    "\n",
    "    return Markdown(f\"### {title}\\n\\n\" + df.set_index(\"Year\").to_markdown())\n",
    "\n",
    "get_rate_table(absolute=True, bhc=True)"
   ]
  },
  {
   "cell_type": "code",
   "execution_count": 83,
   "metadata": {},
   "outputs": [
    {
     "data": {
      "text/markdown": [
       "### Absolute poverty after housing costs\n",
       "\n",
       "|   Year |   Autumn EFO rate (%) |   Autumn EFO headcount (thousands) |   Spring EFO rate (%) |   Spring EFO headcount (thousands) |   Change in rate (%) |   Change in headcount (thousands) |\n",
       "|-------:|----------------------:|-----------------------------------:|----------------------:|-----------------------------------:|---------------------:|----------------------------------:|\n",
       "|   2025 |                  16.1 |                              11713 |                  16.1 |                              11713 |                  0   |                                 0 |\n",
       "|   2026 |                  16.1 |                              11777 |                  16.2 |                              11856 |                  0.1 |                                79 |\n",
       "|   2027 |                  16.2 |                              11980 |                  16.5 |                              12197 |                  0.3 |                               217 |\n",
       "|   2028 |                  16.3 |                              12082 |                  16.6 |                              12347 |                  0.3 |                               265 |\n",
       "|   2029 |                  16.4 |                              12196 |                  16.9 |                              12593 |                  0.5 |                               397 |"
      ],
      "text/plain": [
       "<IPython.core.display.Markdown object>"
      ]
     },
     "execution_count": 83,
     "metadata": {},
     "output_type": "execute_result"
    }
   ],
   "source": [
    "get_rate_table(absolute=True, bhc=False)"
   ]
  },
  {
   "cell_type": "code",
   "execution_count": 84,
   "metadata": {},
   "outputs": [
    {
     "data": {
      "text/markdown": [
       "### Relative poverty after housing costs\n",
       "\n",
       "|   Year |   Autumn EFO rate (%) |   Autumn EFO headcount (thousands) |   Spring EFO rate (%) |   Spring EFO headcount (thousands) |   Change in rate (%) |   Change in headcount (thousands) |\n",
       "|-------:|----------------------:|-----------------------------------:|----------------------:|-----------------------------------:|---------------------:|----------------------------------:|\n",
       "|   2025 |                  21.4 |                              15569 |                  21.4 |                              15569 |                  0   |                                 0 |\n",
       "|   2026 |                  21.2 |                              15562 |                  21.2 |                              15544 |                  0   |                               -18 |\n",
       "|   2027 |                  21.3 |                              15757 |                  21.2 |                              15670 |                 -0.1 |                               -87 |\n",
       "|   2028 |                  21.3 |                              15821 |                  21.3 |                              15832 |                  0   |                                11 |\n",
       "|   2029 |                  20.9 |                              15548 |                  21.3 |                              15866 |                  0.4 |                               318 |"
      ],
      "text/plain": [
       "<IPython.core.display.Markdown object>"
      ]
     },
     "execution_count": 84,
     "metadata": {},
     "output_type": "execute_result"
    }
   ],
   "source": [
    "get_rate_table(absolute=False, bhc=False)"
   ]
  },
  {
   "cell_type": "code",
   "execution_count": 85,
   "metadata": {},
   "outputs": [
    {
     "data": {
      "text/markdown": [
       "### Relative poverty after housing costs\n",
       "\n",
       "|   Year |   Autumn EFO rate (%) |   Autumn EFO headcount (thousands) |   Spring EFO rate (%) |   Spring EFO headcount (thousands) |   Change in rate (%) |   Change in headcount (thousands) |\n",
       "|-------:|----------------------:|-----------------------------------:|----------------------:|-----------------------------------:|---------------------:|----------------------------------:|\n",
       "|   2025 |                  21.4 |                              15569 |                  21.4 |                              15569 |                  0   |                                 0 |\n",
       "|   2026 |                  21.2 |                              15562 |                  21.2 |                              15544 |                  0   |                               -18 |\n",
       "|   2027 |                  21.3 |                              15757 |                  21.2 |                              15670 |                 -0.1 |                               -87 |\n",
       "|   2028 |                  21.3 |                              15821 |                  21.3 |                              15832 |                  0   |                                11 |\n",
       "|   2029 |                  20.9 |                              15548 |                  21.3 |                              15866 |                  0.4 |                               318 |"
      ],
      "text/plain": [
       "<IPython.core.display.Markdown object>"
      ]
     },
     "execution_count": 85,
     "metadata": {},
     "output_type": "execute_result"
    }
   ],
   "source": [
    "get_rate_table(absolute=False, bhc=False)"
   ]
  },
  {
   "cell_type": "markdown",
   "metadata": {},
   "source": [
    "## Inequality\n",
    "\n",
    "We also project income inequality metrics in PolicyEngine's open source model, including the Gini coefficient, the share of income held by the top 10 percent, and the share of income held by the top 1 percent."
   ]
  },
  {
   "cell_type": "code",
   "execution_count": 93,
   "metadata": {},
   "outputs": [
    {
     "data": {
      "text/markdown": [
       "### Gini coefficient\n",
       "\n",
       "|   Year |   Autumn EFO |   Spring EFO |   Change (pp) |   Change (%) |\n",
       "|-------:|-------------:|-------------:|--------------:|-------------:|\n",
       "|   2025 |         35.3 |         35.3 |           0   |          0   |\n",
       "|   2026 |         35.5 |         35.5 |          -0.1 |         -0.2 |\n",
       "|   2027 |         35.6 |         35.5 |          -0.1 |         -0.3 |\n",
       "|   2028 |         35.6 |         35.5 |          -0.2 |         -0.5 |\n",
       "|   2029 |         35.7 |         35.5 |          -0.2 |         -0.6 |"
      ],
      "text/plain": [
       "<IPython.core.display.Markdown object>"
      ]
     },
     "execution_count": 93,
     "metadata": {},
     "output_type": "execute_result"
    }
   ],
   "source": [
    "def get_inequality_table(metric):\n",
    "    years = []\n",
    "    autumn_values = []\n",
    "    spring_values = []\n",
    "    change_values = []\n",
    "    change_values_pct = []\n",
    "\n",
    "    for year in range(2025, 2030):\n",
    "        if metric == \"Gini coefficient\":\n",
    "            autumn_values.append(sim.baseline_simulation.calculate(\"equiv_household_net_income\", year).gini() * 100)\n",
    "            spring_values.append(sim.reform_simulation.calculate(\"equiv_household_net_income\", year).gini() * 100)\n",
    "        elif metric == \"Top 10% share\":\n",
    "            autumn_values.append(sim.baseline_simulation.calculate(\"equiv_household_net_income\", year).top_10_pct_share() * 100)\n",
    "            spring_values.append(sim.reform_simulation.calculate(\"equiv_household_net_income\", year).top_10_pct_share() * 100)\n",
    "        elif metric == \"Top 1% share\":\n",
    "            autumn_values.append(sim.baseline_simulation.calculate(\"equiv_household_net_income\", year).top_1_pct_share() * 100)\n",
    "            spring_values.append(sim.reform_simulation.calculate(\"equiv_household_net_income\", year).top_1_pct_share() * 100)\n",
    "        years.append(year)\n",
    "        change_values.append(round(spring_values[-1] - autumn_values[-1], 1))\n",
    "        change_values_pct.append(round((spring_values[-1] - autumn_values[-1])/autumn_values[-1] * 100, 1))\n",
    "\n",
    "    df = pd.DataFrame({\n",
    "        \"Year\": years,\n",
    "        \"Autumn EFO\": autumn_values,\n",
    "        \"Spring EFO\": spring_values,\n",
    "        \"Change (pp)\": change_values,\n",
    "        \"Change (%)\": change_values_pct,\n",
    "    })\n",
    "\n",
    "    df[\"Autumn EFO\"] = df[\"Autumn EFO\"].round(1)\n",
    "    df[\"Spring EFO\"] = df[\"Spring EFO\"].round(1)\n",
    "\n",
    "    return Markdown(f\"### {metric}\\n\\n\" + df.set_index(\"Year\").to_markdown())\n",
    "\n",
    "get_inequality_table(\"Gini coefficient\")\n"
   ]
  },
  {
   "cell_type": "code",
   "execution_count": 94,
   "metadata": {},
   "outputs": [
    {
     "data": {
      "text/markdown": [
       "### Top 10% share\n",
       "\n",
       "|   Year |   Autumn EFO |   Spring EFO |   Change (pp) |   Change (%) |\n",
       "|-------:|-------------:|-------------:|--------------:|-------------:|\n",
       "|   2025 |         27.2 |         27.2 |           0   |          0   |\n",
       "|   2026 |         27.5 |         27.5 |           0   |          0.1 |\n",
       "|   2027 |         27.5 |         27.4 |          -0.1 |         -0.4 |\n",
       "|   2028 |         27.6 |         27.6 |          -0.1 |         -0.2 |\n",
       "|   2029 |         27.8 |         27.6 |          -0.2 |         -0.8 |"
      ],
      "text/plain": [
       "<IPython.core.display.Markdown object>"
      ]
     },
     "execution_count": 94,
     "metadata": {},
     "output_type": "execute_result"
    }
   ],
   "source": [
    "get_inequality_table(\"Top 10% share\")"
   ]
  },
  {
   "cell_type": "code",
   "execution_count": 95,
   "metadata": {},
   "outputs": [
    {
     "data": {
      "text/markdown": [
       "### Top 1% share\n",
       "\n",
       "|   Year |   Autumn EFO |   Spring EFO |   Change (pp) |   Change (%) |\n",
       "|-------:|-------------:|-------------:|--------------:|-------------:|\n",
       "|   2025 |          7.9 |          7.9 |           0   |          0   |\n",
       "|   2026 |          8.2 |          8.2 |           0   |          0.2 |\n",
       "|   2027 |          8.2 |          8.3 |           0   |          0.5 |\n",
       "|   2028 |          8.3 |          8.4 |           0.1 |          0.9 |\n",
       "|   2029 |          8.3 |          8.5 |           0.1 |          1.5 |"
      ],
      "text/plain": [
       "<IPython.core.display.Markdown object>"
      ]
     },
     "execution_count": 95,
     "metadata": {},
     "output_type": "execute_result"
    }
   ],
   "source": [
    "get_inequality_table(\"Top 1% share\")"
   ]
  },
  {
   "cell_type": "markdown",
   "metadata": {},
   "source": [
    "## Household impacts\n",
    "\n",
    "The OBR forecast change lowers net income for most households. The chart below shows an extract of a thousand randomly-sampled households from our enhanced Family Resources Survey-based microdata, with the x-axis showing the household's income percentile in 2025 and the y-axis showing the change in net income in 2030 as a result of the forecast change."
   ]
  },
  {
   "cell_type": "code",
   "execution_count": 103,
   "metadata": {},
   "outputs": [
    {
     "data": {
      "text/html": [
       "\n",
       "    <link rel=\"preconnect\" href=\"https://fonts.googleapis.com\">\n",
       "    <link rel=\"preconnect\" href=\"https://fonts.gstatic.com\" crossorigin>\n",
       "    <link href=\"https://fonts.googleapis.com/css2?family=Roboto+Serif:ital,opsz,wght@0,8..144,100..900;1,8..144,100..900&display=swap\" rel=\"stylesheet\">\n",
       "    "
      ]
     },
     "metadata": {},
     "output_type": "display_data"
    }
   ],
   "source": [
    "from policyengine.utils.charts import *\n",
    "\n",
    "add_fonts()"
   ]
  },
  {
   "cell_type": "code",
   "execution_count": 132,
   "metadata": {},
   "outputs": [
    {
     "data": {
      "text/markdown": [
       "```plotly\n",
       "{\"data\":[{\"hovertemplate\":\"Percentile=%{x}\\u003cbr\\u003eGain=%{y}\\u003cextra\\u003e\\u003c\\u002fextra\\u003e\",\"legendgroup\":\"\",\"marker\":{\"color\":\"#2C6496\",\"opacity\":0.5,\"symbol\":\"circle\"},\"mode\":\"markers\",\"name\":\"\",\"orientation\":\"v\",\"showlegend\":false,\"x\":[36.0,82.0,40.0,23.0,18.0,44.0,14.0,93.0,13.0,75.0,82.0,27.0,16.0,44.0,45.0,6.0,63.0,79.0,41.0,11.0,100.0,89.0,43.0,23.0,47.0,67.0,24.0,15.0,20.0,56.0,89.0,87.0,92.0,64.0,93.0,20.0,77.0,99.0,86.0,83.0,58.0,33.0,11.0,32.0,73.0,76.0,66.0,15.0,68.0,84.0,40.0,89.0,33.0,50.0,95.0,39.0,46.0,32.0,8.0,62.0,30.0,55.0,85.0,21.0,43.0,6.0,83.0,51.0,51.0,34.0,60.0,82.0,82.0,87.0,85.0,70.0,52.0,29.0,70.0,12.0,92.0,10.0,91.0,50.0,45.0,26.0,56.0,35.0,60.0,24.0,98.0,11.0,56.0,42.0,92.0,42.0,92.0,64.0,13.0,51.0,83.0,8.0,30.0,86.0,31.0,44.0,11.0,64.0,9.0,44.0,48.0,73.0,80.0,85.0,25.0,73.0,99.0,64.0,83.0,52.0,21.0,77.0,96.0,43.0,6.0,46.0,21.0,20.0,95.0,41.0,46.0,91.0,7.0,95.0,29.0,12.0,91.0,33.0,15.0,77.0,15.0,88.0,28.0,70.0,30.0,21.0,67.0,59.0,43.0,7.0,41.0,91.0,62.0,32.0,5.0,37.0,36.0,10.0,42.0,47.0,60.0,44.0,83.0,30.0,93.0,45.0,28.0,8.0,47.0,51.0,26.0,23.0,88.0,54.0,51.0,61.0,92.0,9.0,90.0,4.0,100.0,70.0,74.0,98.0,45.0,64.0,89.0,28.0,27.0,71.0,56.0,59.0,84.0,58.0,84.0,98.0,89.0,46.0,43.0,90.0,11.0,3.0,49.0,39.0,60.0,13.0,44.0,34.0,67.0,41.0,20.0,89.0,56.0,39.0,1.0,32.0,70.0,44.0,89.0,83.0,6.0,1.0,61.0,61.0,28.0,37.0,42.0,69.0,12.0,69.0,31.0,28.0,100.0,6.0,5.0,51.0,80.0,46.0,18.0,5.0,85.0,28.0,38.0,12.0,8.0,5.0,23.0,8.0,91.0,40.0,38.0,3.0,12.0,50.0,86.0,95.0,99.0,84.0,95.0,95.0,71.0,78.0,30.0,55.0,13.0,17.0,28.0,4.0,42.0,12.0,4.0,74.0,99.0,87.0,31.0,83.0,84.0,44.0,8.0,41.0,39.0,23.0,66.0,1.0,64.0,37.0,99.0,49.0,76.0,90.0,13.0,54.0,26.0,39.0,100.0,82.0,63.0,68.0,28.0,100.0,58.0,63.0,21.0,66.0,22.0,28.0,31.0,75.0,100.0,29.0,94.0,36.0,69.0,70.0,61.0,48.0,46.0,54.0,49.0,65.0,50.0,40.0,84.0,43.0,9.0,58.0,46.0,38.0,52.0,49.0,1.0,63.0,37.0,46.0,38.0,66.0,80.0,29.0,48.0,31.0,95.0,49.0,80.0,85.0,3.0,23.0,68.0,79.0,89.0,67.0,91.0,84.0,97.0,80.0,83.0,66.0,82.0,74.0,23.0,57.0,41.0,71.0,72.0,26.0,56.0,91.0,44.0,18.0,16.0,41.0,11.0,40.0,65.0,48.0,71.0,3.0,23.0,50.0,55.0,40.0,7.0,87.0,3.0,73.0,85.0,82.0,40.0,53.0,8.0,52.0,16.0,50.0,59.0,40.0,8.0,57.0,55.0,83.0,95.0,86.0,36.0,67.0,34.0,85.0,86.0,31.0,94.0,81.0,54.0,60.0,53.0,100.0,58.0,38.0,68.0,77.0,18.0,82.0,72.0,44.0,93.0,43.0,66.0,47.0,54.0,87.0,96.0,73.0,89.0,80.0,61.0,4.0,91.0,49.0,55.0,5.0,16.0,86.0,11.0,98.0,41.0,85.0,86.0,47.0,36.0,1.0,86.0,29.0,53.0,78.0,36.0,12.0,34.0,52.0,81.0,11.0,39.0,24.0,47.0,4.0,53.0,34.0,38.0,61.0,94.0,74.0,80.0,100.0,4.0,66.0,37.0,78.0,68.0,25.0,53.0,37.0,74.0,47.0,4.0,86.0,90.0,4.0,54.0,11.0,52.0,44.0,8.0,69.0,100.0,47.0,38.0,15.0,28.0,96.0,85.0,86.0,47.0,91.0,79.0,50.0,34.0,29.0,94.0,86.0,98.0,89.0,14.0,90.0,55.0,15.0,50.0,32.0,67.0,91.0,15.0,3.0,79.0,89.0,65.0,76.0,6.0,87.0,50.0,66.0,72.0,85.0,22.0,97.0,94.0,81.0,57.0,68.0,40.0,88.0,55.0,39.0,13.0,6.0,78.0,55.0,37.0,28.0,52.0,95.0,56.0,50.0,14.0,4.0,44.0,80.0,18.0,46.0,1.0,9.0,88.0,54.0,100.0,13.0,95.0,89.0,98.0,66.0,69.0,53.0,64.0,88.0,71.0,70.0,47.0,54.0,74.0,13.0,57.0,99.0,56.0,19.0,93.0,85.0,51.0,29.0,75.0,85.0,83.0,28.0,5.0,65.0,100.0,24.0,72.0,87.0,62.0,70.0,97.0,94.0,30.0,74.0,48.0,95.0,48.0,29.0,72.0,2.0,44.0,61.0,60.0,98.0,6.0,52.0,45.0,88.0,94.0,36.0,33.0,37.0,86.0,43.0,83.0,15.0,26.0,50.0,66.0,32.0,80.0,54.0,98.0,39.0,48.0,65.0,91.0,53.0,67.0,34.0,50.0,65.0,64.0,81.0,71.0,76.0,74.0,100.0,30.0,40.0,35.0,6.0,30.0,79.0,41.0,86.0,40.0,51.0,87.0,44.0,45.0,76.0,5.0,64.0,73.0,93.0,56.0,89.0,80.0,68.0,77.0,34.0,65.0,44.0,21.0,91.0,75.0,98.0,45.0,70.0,63.0,53.0,38.0,67.0,75.0,70.0,94.0,80.0,88.0,4.0,54.0,53.0,38.0,70.0,94.0,10.0,85.0,33.0,52.0,73.0,83.0,32.0,70.0,78.0,27.0,84.0,73.0,23.0,97.0,32.0,94.0,1.0,95.0,64.0,30.0,79.0,1.0,5.0,56.0,52.0,56.0,29.0,96.0,81.0,55.0,61.0,66.0,89.0,97.0,99.0,96.0,52.0,33.0,70.0,11.0,63.0,36.0,80.0,74.0,83.0,51.0,79.0,54.0,4.0,38.0,53.0,49.0,91.0,14.0,38.0,93.0,54.0,51.0,47.0,100.0,66.0,62.0,43.0,52.0,29.0,98.0,24.0,69.0,48.0,44.0,55.0,69.0,39.0,100.0,1.0,33.0,100.0,73.0,52.0,4.0,51.0,91.0,18.0,69.0,52.0,55.0,74.0,73.0,48.0,42.0,7.0,11.0,31.0,47.0,48.0,27.0,79.0,46.0,54.0,85.0,26.0,80.0,48.0,86.0,13.0,54.0,25.0,72.0,94.0,29.0,94.0,55.0,34.0,79.0,71.0,49.0,2.0,49.0,83.0,53.0,76.0,11.0,44.0,96.0,63.0,13.0,25.0,39.0,93.0,16.0,3.0,96.0,34.0,74.0,76.0,10.0,47.0,1.0,51.0,81.0,81.0,72.0,48.0,20.0,83.0,56.0,90.0,45.0,43.0,93.0,98.0,83.0,79.0,3.0,79.0,32.0,34.0,13.0,46.0,89.0,89.0,99.0,64.0,97.0,32.0,37.0,14.0,47.0,68.0,37.0,81.0,64.0,64.0,63.0,5.0,3.0,50.0,21.0,3.0,38.0,5.0,48.0,44.0,38.0,91.0,52.0,52.0,42.0,12.0,38.0,63.0,6.0,41.0,58.0,54.0,64.0,44.0,46.0,53.0,88.0,95.0,52.0,40.0,22.0,18.0,4.0,84.0,90.0,30.0,40.0,97.0,97.0,10.0,34.0,80.0,79.0,12.0,83.0,88.0,29.0,2.0,63.0,70.0,71.0,100.0,6.0,21.0,1.0,30.0,52.0,4.0,1.0,7.0,3.0,54.0,89.0,71.0,97.0,91.0,90.0,13.0,88.0,15.0,71.0,16.0,83.0,55.0,82.0,41.0,69.0,80.0,75.0,97.0,66.0,94.0,95.0,69.0,38.0,2.0,53.0,28.0,21.0,88.0,98.0,6.0,57.0,27.0,10.0,34.0,64.0,52.0,90.0,88.0,53.0,44.0,59.0,30.0,66.0,90.0,74.0,88.0,89.0,3.0,12.0,86.0,41.0,43.0,5.0,50.0,99.0,87.0,42.0,21.0,97.0,8.0,64.0,65.0,41.0,10.0,4.0,81.0,48.0,12.0,13.0,8.0,71.0,73.0,98.0,32.0,42.0,43.0,78.0,78.0],\"xaxis\":\"x\",\"y\":[0.0,-3779.0,-90.0,-677.0,-494.0,-1859.0,-76.0,-4579.0,-121.0,-1452.0,-3279.0,-537.0,-151.0,-1939.0,-1879.0,-61.0,-267.0,-1709.0,-550.0,0.0,-7580.0,-3840.0,-646.0,0.0,-430.0,0.0,-544.0,-46.0,-1026.0,-2138.0,-4251.0,-2198.0,-3332.0,-1833.0,-3231.0,-61.0,-3422.0,-1309.0,-3103.0,-2397.0,-2823.0,-61.0,-75.0,0.0,-60.0,-460.0,-702.0,-270.0,-2779.0,-3660.0,0.0,-4490.0,-618.0,-2330.0,-5414.0,0.0,-61.0,-61.0,0.0,-1709.0,-46.0,-1664.0,-1573.0,-488.0,-152.0,-791.0,-4120.0,-136.0,-1551.0,0.0,0.0,-4088.0,-2098.0,-3469.0,-3654.0,0.0,0.0,-107.0,-467.0,-53.0,-4045.0,-728.0,-3724.0,-1710.0,0.0,-629.0,-377.0,-124.0,-1242.0,-109.0,-7475.0,-715.0,-1761.0,0.0,-3743.0,-45.0,-2729.0,-3205.0,-313.0,-26.0,-2673.0,-539.0,-80.0,-136.0,0.0,-1811.0,0.0,-2412.0,-571.0,0.0,-2074.0,-1031.0,-3617.0,-3957.0,0.0,-2830.0,-7581.0,-2064.0,-4142.0,-105.0,0.0,-2323.0,-4588.0,-36.0,-75.0,-60.0,-174.0,-577.0,-5878.0,-663.0,-378.0,-3428.0,-22.0,-5694.0,-60.0,-581.0,-4744.0,-60.0,-504.0,0.0,-16.0,-87.0,0.0,-597.0,-107.0,-46.0,-2729.0,0.0,-87.0,-75.0,-104.0,-3286.0,-278.0,-557.0,-1113.0,-61.0,-1458.0,0.0,0.0,-60.0,-657.0,-1955.0,-3779.0,-318.0,-4836.0,0.0,-107.0,-61.0,-1155.0,-734.0,-1889.0,-61.0,-3765.0,-718.0,-1101.0,-1866.0,-4006.0,-374.0,-3922.0,0.0,-1795.0,-1556.0,-3083.0,-7356.0,0.0,-58.0,-117.0,0.0,-21.0,-3997.0,-1910.0,0.0,-3815.0,-2272.0,-1832.0,-4728.0,-4172.0,-60.0,-60.0,-3452.0,-568.0,0.0,0.0,-136.0,-931.0,-321.0,-1755.0,0.0,-731.0,-778.0,-557.0,-2509.0,-47.0,-14.0,-61.0,-2181.0,-1912.0,-61.0,-3491.0,-3764.0,0.0,0.0,-973.0,-2294.0,-60.0,0.0,-666.0,0.0,-75.0,-2729.0,0.0,-151.0,-2784.0,-75.0,-76.0,-96.0,-2784.0,0.0,-523.0,0.0,0.0,-47.0,0.0,-112.0,-444.0,0.0,0.0,-1426.0,-5454.0,-131.0,-1030.0,0.0,-75.0,-1629.0,-3117.0,-4145.0,-5670.0,-3697.0,-5636.0,-4276.0,-2562.0,-3711.0,-1301.0,-2127.0,-546.0,-76.0,-1268.0,0.0,-244.0,-350.0,-76.0,-1879.0,-8609.0,-2717.0,0.0,-2138.0,-3751.0,-329.0,-60.0,-139.0,-1182.0,0.0,-990.0,0.0,-2606.0,-1491.0,-9371.0,-47.0,-1812.0,-3387.0,-28.0,-884.0,-75.0,-449.0,-2578.0,-2779.0,-121.0,-5919.0,0.0,-14567.0,-158.0,-2630.0,0.0,-1347.0,-76.0,0.0,-61.0,-3472.0,-4730.0,0.0,-2706.0,0.0,-1924.0,-1848.0,-60.0,-567.0,-387.0,-871.0,-836.0,-2602.0,-2054.0,0.0,-3706.0,-1765.0,-60.0,0.0,-1995.0,-96.0,-5.0,-1047.0,-6.0,-80.0,-249.0,-1987.0,0.0,-2850.0,-2293.0,-37.0,-1877.0,0.0,-5246.0,-2096.0,-3709.0,-2013.0,-356.0,0.0,-2750.0,-158.0,-30.0,-2656.0,-4130.0,-1412.0,-6939.0,-1631.0,-45.0,-2366.0,-3666.0,-3303.0,-27.0,-619.0,-978.0,0.0,-1693.0,-61.0,-752.0,-4303.0,0.0,-434.0,-465.0,-1686.0,-667.0,0.0,-117.0,-2158.0,-2953.0,0.0,-1315.0,-116.0,-60.0,0.0,0.0,-3680.0,-76.0,-1497.0,-2674.0,-3551.0,-152.0,-1545.0,-61.0,-2271.0,-61.0,0.0,-622.0,-139.0,-61.0,-121.0,-1577.0,-3044.0,-3942.0,-91.0,0.0,0.0,0.0,-3846.0,-4294.0,0.0,-61.0,-3620.0,-69.0,-2866.0,0.0,-14747.0,-553.0,-1582.0,-2002.0,-2790.0,-1002.0,-3425.0,-2940.0,-45.0,-5398.0,-283.0,-3082.0,-1983.0,-2064.0,-3545.0,-4585.0,-2499.0,-3726.0,-3473.0,-1057.0,0.0,-4011.0,-1390.0,-645.0,0.0,0.0,-4296.0,-60.0,-6106.0,-133.0,0.0,-4040.0,-106.0,-1466.0,-79.0,-3856.0,-1328.0,-2003.0,-3656.0,-60.0,0.0,-46.0,-1485.0,-3205.0,-60.0,-256.0,0.0,-61.0,0.0,-33.0,-1531.0,0.0,0.0,-5022.0,-2944.0,-3626.0,-2344.0,0.0,-1080.0,-1500.0,-3524.0,-1344.0,-60.0,-1760.0,-298.0,-1229.0,-2185.0,0.0,-2261.0,-4107.0,0.0,-1928.0,-60.0,-2235.0,-502.0,0.0,-1274.0,-3990.0,-1816.0,-61.0,0.0,-1166.0,-5209.0,-4230.0,-1757.0,-1915.0,-4175.0,0.0,-687.0,-1123.0,-106.0,-4817.0,-3249.0,-7668.0,-4638.0,-61.0,-694.0,-2683.0,0.0,-2134.0,-121.0,-2403.0,-4632.0,-627.0,0.0,-3079.0,-4649.0,-2047.0,-2606.0,-80.0,-3676.0,-60.0,-2003.0,-2960.0,-4512.0,-60.0,-5257.0,-3657.0,-694.0,0.0,-2228.0,301.0,-4086.0,-2479.0,-60.0,0.0,-80.0,-3550.0,-1874.0,-582.0,0.0,0.0,-4325.0,0.0,-2160.0,-60.0,-95.0,0.0,-3697.0,-61.0,-63.0,-925.0,-309.0,-4460.0,-2597.0,-3277.0,0.0,-4253.0,-4002.0,-6768.0,-120.0,-42.0,-2138.0,-2068.0,-3951.0,-3119.0,-101.0,-1992.0,-1897.0,-2875.0,0.0,0.0,-6229.0,-121.0,-561.0,-5209.0,-2873.0,-61.0,0.0,0.0,-2572.0,-3697.0,-1354.0,0.0,-2097.0,-14232.0,0.0,-2190.0,-4217.0,-843.0,-3075.0,-5919.0,-2929.0,0.0,-2888.0,-139.0,-5141.0,-1945.0,-1282.0,-1864.0,-61.0,-118.0,-1390.0,-2193.0,-2802.0,-46.0,-539.0,-48.0,-3041.0,-5554.0,-1040.0,0.0,0.0,-4434.0,-1505.0,-3905.0,-38.0,-76.0,0.0,-3077.0,0.0,-4177.0,-2453.0,-8911.0,0.0,-87.0,-2039.0,-2586.0,-1348.0,-79.0,0.0,0.0,-2134.0,-2719.0,-2307.0,-3361.0,-3470.0,-3358.0,-1382.0,0.0,-1069.0,0.0,-76.0,0.0,-1560.0,-61.0,-2974.0,0.0,-658.0,-3837.0,-1849.0,-1923.0,-835.0,-76.0,-728.0,0.0,-4616.0,0.0,-4215.0,-3674.0,-1912.0,-106.0,-93.0,-121.0,-138.0,-174.0,-3313.0,-3422.0,-6508.0,-1941.0,-2982.0,-2479.0,-627.0,-61.0,-2446.0,-2233.0,-121.0,-3572.0,-2723.0,-2852.0,-91.0,-2452.0,-2484.0,-1581.0,-1070.0,-4736.0,0.0,-1177.0,0.0,-970.0,-2437.0,-4498.0,-271.0,-2948.0,-1395.0,0.0,-2797.0,-3291.0,0.0,-6388.0,-714.0,-4016.0,0.0,-3581.0,-1833.0,-428.0,-2169.0,0.0,0.0,-1182.0,-2257.0,-702.0,0.0,-4842.0,-3914.0,-119.0,-672.0,-2508.0,-4331.0,-5433.0,-8624.0,-5895.0,-2569.0,-79.0,-3061.0,-76.0,0.0,-1505.0,-3784.0,-2037.0,-3657.0,-1672.0,-892.0,-2159.0,0.0,-59.0,-2083.0,0.0,-4722.0,-75.0,0.0,-5070.0,-2550.0,-2190.0,-687.0,-10573.0,0.0,-2575.0,-1808.0,-2306.0,-106.0,-8076.0,-75.0,-3075.0,-813.0,-789.0,-632.0,-2764.0,-1393.0,-3990.0,-445.0,-60.0,-8609.0,-3274.0,-136.0,-20.0,-60.0,-3914.0,0.0,-2712.0,-2283.0,-2529.0,-3512.0,-3092.0,-133.0,-61.0,-35.0,-61.0,-123.0,-1962.0,-851.0,-1201.0,-3434.0,-301.0,-1409.0,-3932.0,0.0,-2528.0,-344.0,-3920.0,-49.0,-2671.0,-151.0,-3234.0,-4698.0,-60.0,-5073.0,-2602.0,-120.0,-2071.0,-3124.0,-2037.0,0.0,-2067.0,-3846.0,0.0,-1694.0,0.0,-60.0,-2144.0,-2506.0,-75.0,-1137.0,-1188.0,-3872.0,0.0,0.0,-5668.0,0.0,-1158.0,-943.0,-60.0,-1112.0,0.0,-2190.0,-3897.0,-3285.0,-2829.0,-494.0,-79.0,-4044.0,-139.0,-4563.0,-79.0,-92.0,-4294.0,-7858.0,-3685.0,-3869.0,0.0,-2620.0,-61.0,-1524.0,-273.0,-1879.0,-4487.0,-4390.0,-9568.0,-2448.0,-2434.0,-136.0,0.0,-60.0,0.0,-1454.0,-61.0,-1357.0,-1845.0,0.0,-2591.0,0.0,0.0,-367.0,0.0,0.0,-47.0,-60.0,-2092.0,-1346.0,-491.0,-4751.0,-91.0,-2338.0,-107.0,-61.0,-79.0,-1953.0,-61.0,0.0,-2320.0,-678.0,-46.0,-1418.0,-1955.0,-719.0,-2733.0,-3908.0,0.0,-631.0,-61.0,0.0,-712.0,-3722.0,-4490.0,0.0,-1566.0,-4020.0,-5278.0,-765.0,-61.0,-3860.0,-2094.0,-604.0,-3767.0,-4908.0,-1319.0,0.0,-2611.0,-1542.0,-3313.0,0.0,-75.0,-151.0,-135.0,-60.0,-521.0,0.0,0.0,0.0,-76.0,-120.0,-4090.0,-3227.0,-7255.0,-4432.0,-3055.0,-769.0,-4720.0,-137.0,-1839.0,-119.0,-2296.0,8.0,-1106.0,-261.0,-1023.0,-2837.0,-2691.0,0.0,-2774.0,-5097.0,-4434.0,0.0,0.0,0.0,-2440.0,0.0,-1049.0,-4828.0,-1620.0,0.0,-2422.0,0.0,-69.0,-1545.0,-2822.0,-2263.0,-4588.0,-3845.0,-76.0,0.0,-121.0,-114.0,-44.0,-55.0,-2339.0,-4835.0,-4852.0,-224.0,-847.0,-3875.0,-1951.0,-1767.0,-743.0,-61.0,-8990.0,-3102.0,-401.0,0.0,-4649.0,-396.0,-2598.0,-1925.0,-122.0,0.0,0.0,-59.0,-1465.0,-60.0,-42.0,-11.0,-2383.0,-2037.0,-2941.0,0.0,-136.0,-1803.0,-25.0,-529.0],\"yaxis\":\"y\",\"type\":\"scatter\"}],\"layout\":{\"template\":{\"data\":{\"histogram2dcontour\":[{\"type\":\"histogram2dcontour\",\"colorbar\":{\"outlinewidth\":0,\"ticks\":\"\"},\"colorscale\":[[0.0,\"#0d0887\"],[0.1111111111111111,\"#46039f\"],[0.2222222222222222,\"#7201a8\"],[0.3333333333333333,\"#9c179e\"],[0.4444444444444444,\"#bd3786\"],[0.5555555555555556,\"#d8576b\"],[0.6666666666666666,\"#ed7953\"],[0.7777777777777778,\"#fb9f3a\"],[0.8888888888888888,\"#fdca26\"],[1.0,\"#f0f921\"]]}],\"choropleth\":[{\"type\":\"choropleth\",\"colorbar\":{\"outlinewidth\":0,\"ticks\":\"\"}}],\"histogram2d\":[{\"type\":\"histogram2d\",\"colorbar\":{\"outlinewidth\":0,\"ticks\":\"\"},\"colorscale\":[[0.0,\"#0d0887\"],[0.1111111111111111,\"#46039f\"],[0.2222222222222222,\"#7201a8\"],[0.3333333333333333,\"#9c179e\"],[0.4444444444444444,\"#bd3786\"],[0.5555555555555556,\"#d8576b\"],[0.6666666666666666,\"#ed7953\"],[0.7777777777777778,\"#fb9f3a\"],[0.8888888888888888,\"#fdca26\"],[1.0,\"#f0f921\"]]}],\"heatmap\":[{\"type\":\"heatmap\",\"colorbar\":{\"outlinewidth\":0,\"ticks\":\"\"},\"colorscale\":[[0.0,\"#0d0887\"],[0.1111111111111111,\"#46039f\"],[0.2222222222222222,\"#7201a8\"],[0.3333333333333333,\"#9c179e\"],[0.4444444444444444,\"#bd3786\"],[0.5555555555555556,\"#d8576b\"],[0.6666666666666666,\"#ed7953\"],[0.7777777777777778,\"#fb9f3a\"],[0.8888888888888888,\"#fdca26\"],[1.0,\"#f0f921\"]]}],\"heatmapgl\":[{\"type\":\"heatmapgl\",\"colorbar\":{\"outlinewidth\":0,\"ticks\":\"\"},\"colorscale\":[[0.0,\"#0d0887\"],[0.1111111111111111,\"#46039f\"],[0.2222222222222222,\"#7201a8\"],[0.3333333333333333,\"#9c179e\"],[0.4444444444444444,\"#bd3786\"],[0.5555555555555556,\"#d8576b\"],[0.6666666666666666,\"#ed7953\"],[0.7777777777777778,\"#fb9f3a\"],[0.8888888888888888,\"#fdca26\"],[1.0,\"#f0f921\"]]}],\"contourcarpet\":[{\"type\":\"contourcarpet\",\"colorbar\":{\"outlinewidth\":0,\"ticks\":\"\"}}],\"contour\":[{\"type\":\"contour\",\"colorbar\":{\"outlinewidth\":0,\"ticks\":\"\"},\"colorscale\":[[0.0,\"#0d0887\"],[0.1111111111111111,\"#46039f\"],[0.2222222222222222,\"#7201a8\"],[0.3333333333333333,\"#9c179e\"],[0.4444444444444444,\"#bd3786\"],[0.5555555555555556,\"#d8576b\"],[0.6666666666666666,\"#ed7953\"],[0.7777777777777778,\"#fb9f3a\"],[0.8888888888888888,\"#fdca26\"],[1.0,\"#f0f921\"]]}],\"surface\":[{\"type\":\"surface\",\"colorbar\":{\"outlinewidth\":0,\"ticks\":\"\"},\"colorscale\":[[0.0,\"#0d0887\"],[0.1111111111111111,\"#46039f\"],[0.2222222222222222,\"#7201a8\"],[0.3333333333333333,\"#9c179e\"],[0.4444444444444444,\"#bd3786\"],[0.5555555555555556,\"#d8576b\"],[0.6666666666666666,\"#ed7953\"],[0.7777777777777778,\"#fb9f3a\"],[0.8888888888888888,\"#fdca26\"],[1.0,\"#f0f921\"]]}],\"mesh3d\":[{\"type\":\"mesh3d\",\"colorbar\":{\"outlinewidth\":0,\"ticks\":\"\"}}],\"scatter\":[{\"fillpattern\":{\"fillmode\":\"overlay\",\"size\":10,\"solidity\":0.2},\"type\":\"scatter\"}],\"parcoords\":[{\"type\":\"parcoords\",\"line\":{\"colorbar\":{\"outlinewidth\":0,\"ticks\":\"\"}}}],\"scatterpolargl\":[{\"type\":\"scatterpolargl\",\"marker\":{\"colorbar\":{\"outlinewidth\":0,\"ticks\":\"\"}}}],\"bar\":[{\"error_x\":{\"color\":\"#2a3f5f\"},\"error_y\":{\"color\":\"#2a3f5f\"},\"marker\":{\"line\":{\"color\":\"#E5ECF6\",\"width\":0.5},\"pattern\":{\"fillmode\":\"overlay\",\"size\":10,\"solidity\":0.2}},\"type\":\"bar\"}],\"scattergeo\":[{\"type\":\"scattergeo\",\"marker\":{\"colorbar\":{\"outlinewidth\":0,\"ticks\":\"\"}}}],\"scatterpolar\":[{\"type\":\"scatterpolar\",\"marker\":{\"colorbar\":{\"outlinewidth\":0,\"ticks\":\"\"}}}],\"histogram\":[{\"marker\":{\"pattern\":{\"fillmode\":\"overlay\",\"size\":10,\"solidity\":0.2}},\"type\":\"histogram\"}],\"scattergl\":[{\"type\":\"scattergl\",\"marker\":{\"colorbar\":{\"outlinewidth\":0,\"ticks\":\"\"}}}],\"scatter3d\":[{\"type\":\"scatter3d\",\"line\":{\"colorbar\":{\"outlinewidth\":0,\"ticks\":\"\"}},\"marker\":{\"colorbar\":{\"outlinewidth\":0,\"ticks\":\"\"}}}],\"scattermapbox\":[{\"type\":\"scattermapbox\",\"marker\":{\"colorbar\":{\"outlinewidth\":0,\"ticks\":\"\"}}}],\"scatterternary\":[{\"type\":\"scatterternary\",\"marker\":{\"colorbar\":{\"outlinewidth\":0,\"ticks\":\"\"}}}],\"scattercarpet\":[{\"type\":\"scattercarpet\",\"marker\":{\"colorbar\":{\"outlinewidth\":0,\"ticks\":\"\"}}}],\"carpet\":[{\"aaxis\":{\"endlinecolor\":\"#2a3f5f\",\"gridcolor\":\"white\",\"linecolor\":\"white\",\"minorgridcolor\":\"white\",\"startlinecolor\":\"#2a3f5f\"},\"baxis\":{\"endlinecolor\":\"#2a3f5f\",\"gridcolor\":\"white\",\"linecolor\":\"white\",\"minorgridcolor\":\"white\",\"startlinecolor\":\"#2a3f5f\"},\"type\":\"carpet\"}],\"table\":[{\"cells\":{\"fill\":{\"color\":\"#EBF0F8\"},\"line\":{\"color\":\"white\"}},\"header\":{\"fill\":{\"color\":\"#C8D4E3\"},\"line\":{\"color\":\"white\"}},\"type\":\"table\"}],\"barpolar\":[{\"marker\":{\"line\":{\"color\":\"#E5ECF6\",\"width\":0.5},\"pattern\":{\"fillmode\":\"overlay\",\"size\":10,\"solidity\":0.2}},\"type\":\"barpolar\"}],\"pie\":[{\"automargin\":true,\"type\":\"pie\"}]},\"layout\":{\"autotypenumbers\":\"strict\",\"colorway\":[\"#636efa\",\"#EF553B\",\"#00cc96\",\"#ab63fa\",\"#FFA15A\",\"#19d3f3\",\"#FF6692\",\"#B6E880\",\"#FF97FF\",\"#FECB52\"],\"font\":{\"color\":\"#2a3f5f\"},\"hovermode\":\"closest\",\"hoverlabel\":{\"align\":\"left\"},\"paper_bgcolor\":\"white\",\"plot_bgcolor\":\"#E5ECF6\",\"polar\":{\"bgcolor\":\"#E5ECF6\",\"angularaxis\":{\"gridcolor\":\"white\",\"linecolor\":\"white\",\"ticks\":\"\"},\"radialaxis\":{\"gridcolor\":\"white\",\"linecolor\":\"white\",\"ticks\":\"\"}},\"ternary\":{\"bgcolor\":\"#E5ECF6\",\"aaxis\":{\"gridcolor\":\"white\",\"linecolor\":\"white\",\"ticks\":\"\"},\"baxis\":{\"gridcolor\":\"white\",\"linecolor\":\"white\",\"ticks\":\"\"},\"caxis\":{\"gridcolor\":\"white\",\"linecolor\":\"white\",\"ticks\":\"\"}},\"coloraxis\":{\"colorbar\":{\"outlinewidth\":0,\"ticks\":\"\"}},\"colorscale\":{\"sequential\":[[0.0,\"#0d0887\"],[0.1111111111111111,\"#46039f\"],[0.2222222222222222,\"#7201a8\"],[0.3333333333333333,\"#9c179e\"],[0.4444444444444444,\"#bd3786\"],[0.5555555555555556,\"#d8576b\"],[0.6666666666666666,\"#ed7953\"],[0.7777777777777778,\"#fb9f3a\"],[0.8888888888888888,\"#fdca26\"],[1.0,\"#f0f921\"]],\"sequentialminus\":[[0.0,\"#0d0887\"],[0.1111111111111111,\"#46039f\"],[0.2222222222222222,\"#7201a8\"],[0.3333333333333333,\"#9c179e\"],[0.4444444444444444,\"#bd3786\"],[0.5555555555555556,\"#d8576b\"],[0.6666666666666666,\"#ed7953\"],[0.7777777777777778,\"#fb9f3a\"],[0.8888888888888888,\"#fdca26\"],[1.0,\"#f0f921\"]],\"diverging\":[[0,\"#8e0152\"],[0.1,\"#c51b7d\"],[0.2,\"#de77ae\"],[0.3,\"#f1b6da\"],[0.4,\"#fde0ef\"],[0.5,\"#f7f7f7\"],[0.6,\"#e6f5d0\"],[0.7,\"#b8e186\"],[0.8,\"#7fbc41\"],[0.9,\"#4d9221\"],[1,\"#276419\"]]},\"xaxis\":{\"gridcolor\":\"white\",\"linecolor\":\"white\",\"ticks\":\"\",\"title\":{\"standoff\":15},\"zerolinecolor\":\"white\",\"automargin\":true,\"zerolinewidth\":2},\"yaxis\":{\"gridcolor\":\"white\",\"linecolor\":\"white\",\"ticks\":\"\",\"title\":{\"standoff\":15},\"zerolinecolor\":\"white\",\"automargin\":true,\"zerolinewidth\":2},\"scene\":{\"xaxis\":{\"backgroundcolor\":\"#E5ECF6\",\"gridcolor\":\"white\",\"linecolor\":\"white\",\"showbackground\":true,\"ticks\":\"\",\"zerolinecolor\":\"white\",\"gridwidth\":2},\"yaxis\":{\"backgroundcolor\":\"#E5ECF6\",\"gridcolor\":\"white\",\"linecolor\":\"white\",\"showbackground\":true,\"ticks\":\"\",\"zerolinecolor\":\"white\",\"gridwidth\":2},\"zaxis\":{\"backgroundcolor\":\"#E5ECF6\",\"gridcolor\":\"white\",\"linecolor\":\"white\",\"showbackground\":true,\"ticks\":\"\",\"zerolinecolor\":\"white\",\"gridwidth\":2}},\"shapedefaults\":{\"line\":{\"color\":\"#2a3f5f\"}},\"annotationdefaults\":{\"arrowcolor\":\"#2a3f5f\",\"arrowhead\":0,\"arrowwidth\":1},\"geo\":{\"bgcolor\":\"white\",\"landcolor\":\"#E5ECF6\",\"subunitcolor\":\"white\",\"showland\":true,\"showlakes\":true,\"lakecolor\":\"white\"},\"title\":{\"x\":0.05},\"mapbox\":{\"style\":\"light\"}}},\"xaxis\":{\"anchor\":\"y\",\"domain\":[0.0,1.0],\"title\":{\"text\":\"Percentile\"}},\"yaxis\":{\"anchor\":\"x\",\"domain\":[0.0,1.0],\"title\":{\"text\":\"Change in net income (\\u00a3)\"}},\"legend\":{\"tracegroupgap\":0},\"margin\":{\"t\":100,\"l\":50,\"r\":50,\"b\":100,\"pad\":4},\"font\":{\"family\":\"Roboto Serif\",\"color\":\"black\"},\"title\":{\"text\":\"OBR forecast change impact on households by percentile\"},\"showlegend\":false,\"annotations\":[{\"font\":{\"color\":\"#616161\",\"family\":\"Roboto Serif\",\"size\":10},\"showarrow\":false,\"text\":\"Source: PolicyEngine UK\",\"x\":1,\"xref\":\"paper\",\"y\":-0.25,\"yref\":\"paper\"}],\"images\":[{\"sizex\":0.1,\"sizey\":0.1,\"source\":\"\\u002flogo512.png\",\"x\":1,\"xanchor\":\"right\",\"xref\":\"paper\",\"y\":-0.2,\"yanchor\":\"bottom\",\"yref\":\"paper\"}]}}\n",
       "```"
      ],
      "text/plain": [
       "<IPython.core.display.Markdown object>"
      ]
     },
     "execution_count": 132,
     "metadata": {},
     "output_type": "execute_result"
    }
   ],
   "source": [
    "df = pd.DataFrame()\n",
    "df[\"weight\"] = sim.baseline_simulation.calculate(\"household_weight\", 2025).values\n",
    "df[\"Gain\"] = sim.reform_simulation.calculate(\"household_net_income\", 2030).values - sim.baseline_simulation.calculate(\"household_net_income\", 2030).values\n",
    "df[\"Percentile\"] = sim.baseline_simulation.calculate(\"household_net_income\", 2025).percentile_rank().values\n",
    "\n",
    "import plotly.express as px\n",
    "\n",
    "fig = px.scatter(\n",
    "    df.sample(weights=\"weight\", n=1_000, random_state=1),\n",
    "    x=\"Percentile\",\n",
    "    y=\"Gain\",\n",
    "    color_discrete_sequence=[BLUE],\n",
    "    opacity=0.5,\n",
    ").update_layout(\n",
    "    title=\"OBR forecast change impact on households by percentile\",\n",
    "    xaxis_title=\"Percentile\",\n",
    "    yaxis_title=\"Change in net income (£)\",\n",
    "    showlegend=False,\n",
    "    font=dict(family=\"Roboto Serif\"),\n",
    "    font_color=\"black\",\n",
    "    margin={\n",
    "      \"l\": 50,\n",
    "      \"r\": 50,\n",
    "      \"b\": 100,\n",
    "      \"t\": 100,\n",
    "      \"pad\": 4\n",
    "    },\n",
    "    annotations=[\n",
    "      {\n",
    "        \"x\": 1,\n",
    "        \"y\": -0.25,\n",
    "        \"xref\": \"paper\",\n",
    "        \"yref\": \"paper\",\n",
    "        \"text\": \"Source: PolicyEngine UK\",\n",
    "        \"showarrow\": False,\n",
    "        \"font\": {\n",
    "          \"family\": \"Roboto Serif\",\n",
    "          \"size\": 10,\n",
    "          \"color\": \"#616161\"\n",
    "        }\n",
    "      }\n",
    "    ],\n",
    "    images=[\n",
    "      {\n",
    "        \"source\": \"/logo512.png\",\n",
    "        \"x\": 1,\n",
    "        \"y\": -0.20,\n",
    "        \"xref\": \"paper\",\n",
    "        \"yref\": \"paper\",\n",
    "        \"sizex\": 0.1,\n",
    "        \"sizey\": 0.1,\n",
    "        \"xanchor\": \"right\",\n",
    "        \"yanchor\": \"bottom\"\n",
    "      }\n",
    "    ],\n",
    ")\n",
    "\n",
    "Markdown(f\"```plotly\\n{fig.to_json()}\\n```\")"
   ]
  },
  {
   "cell_type": "markdown",
   "metadata": {},
   "source": [
    "## Impact by income decile\n",
    "\n",
    "The chart below shows the relative change in income held by each 2025 household income decile, as a result of the change in the OBR forecast."
   ]
  },
  {
   "cell_type": "code",
   "execution_count": 131,
   "metadata": {},
   "outputs": [
    {
     "data": {
      "text/markdown": [
       "```plotly\n",
       "{\"data\":[{\"alignmentgroup\":\"True\",\"hovertemplate\":\"Income decile=%{x}\\u003cbr\\u003eRelative change=%{y}\\u003cbr\\u003eText=%{text}\\u003cextra\\u003e\\u003c\\u002fextra\\u003e\",\"legendgroup\":\"\",\"marker\":{\"color\":\"#616161\",\"pattern\":{\"shape\":\"\"}},\"name\":\"\",\"offsetgroup\":\"\",\"orientation\":\"v\",\"showlegend\":false,\"text\":[\"-1.3%\",\"-1.6%\",\"-1.9%\",\"-2.1%\",\"-2.7%\",\"-2.7%\",\"-3.5%\",\"-3.7%\",\"-4.0%\",\"-3.0%\"],\"textposition\":\"auto\",\"x\":[1,2,3,4,5,6,7,8,9,10],\"xaxis\":\"x\",\"y\":[-0.013131842796314172,-0.016074668088677902,-0.018949819062323504,-0.020728205563209767,-0.02682095818130741,-0.027302837238815898,-0.0352987206640814,-0.03668511991330566,-0.04033148333098474,-0.029619048710542537],\"yaxis\":\"y\",\"type\":\"bar\"}],\"layout\":{\"template\":{\"data\":{\"histogram2dcontour\":[{\"type\":\"histogram2dcontour\",\"colorbar\":{\"outlinewidth\":0,\"ticks\":\"\"},\"colorscale\":[[0.0,\"#0d0887\"],[0.1111111111111111,\"#46039f\"],[0.2222222222222222,\"#7201a8\"],[0.3333333333333333,\"#9c179e\"],[0.4444444444444444,\"#bd3786\"],[0.5555555555555556,\"#d8576b\"],[0.6666666666666666,\"#ed7953\"],[0.7777777777777778,\"#fb9f3a\"],[0.8888888888888888,\"#fdca26\"],[1.0,\"#f0f921\"]]}],\"choropleth\":[{\"type\":\"choropleth\",\"colorbar\":{\"outlinewidth\":0,\"ticks\":\"\"}}],\"histogram2d\":[{\"type\":\"histogram2d\",\"colorbar\":{\"outlinewidth\":0,\"ticks\":\"\"},\"colorscale\":[[0.0,\"#0d0887\"],[0.1111111111111111,\"#46039f\"],[0.2222222222222222,\"#7201a8\"],[0.3333333333333333,\"#9c179e\"],[0.4444444444444444,\"#bd3786\"],[0.5555555555555556,\"#d8576b\"],[0.6666666666666666,\"#ed7953\"],[0.7777777777777778,\"#fb9f3a\"],[0.8888888888888888,\"#fdca26\"],[1.0,\"#f0f921\"]]}],\"heatmap\":[{\"type\":\"heatmap\",\"colorbar\":{\"outlinewidth\":0,\"ticks\":\"\"},\"colorscale\":[[0.0,\"#0d0887\"],[0.1111111111111111,\"#46039f\"],[0.2222222222222222,\"#7201a8\"],[0.3333333333333333,\"#9c179e\"],[0.4444444444444444,\"#bd3786\"],[0.5555555555555556,\"#d8576b\"],[0.6666666666666666,\"#ed7953\"],[0.7777777777777778,\"#fb9f3a\"],[0.8888888888888888,\"#fdca26\"],[1.0,\"#f0f921\"]]}],\"heatmapgl\":[{\"type\":\"heatmapgl\",\"colorbar\":{\"outlinewidth\":0,\"ticks\":\"\"},\"colorscale\":[[0.0,\"#0d0887\"],[0.1111111111111111,\"#46039f\"],[0.2222222222222222,\"#7201a8\"],[0.3333333333333333,\"#9c179e\"],[0.4444444444444444,\"#bd3786\"],[0.5555555555555556,\"#d8576b\"],[0.6666666666666666,\"#ed7953\"],[0.7777777777777778,\"#fb9f3a\"],[0.8888888888888888,\"#fdca26\"],[1.0,\"#f0f921\"]]}],\"contourcarpet\":[{\"type\":\"contourcarpet\",\"colorbar\":{\"outlinewidth\":0,\"ticks\":\"\"}}],\"contour\":[{\"type\":\"contour\",\"colorbar\":{\"outlinewidth\":0,\"ticks\":\"\"},\"colorscale\":[[0.0,\"#0d0887\"],[0.1111111111111111,\"#46039f\"],[0.2222222222222222,\"#7201a8\"],[0.3333333333333333,\"#9c179e\"],[0.4444444444444444,\"#bd3786\"],[0.5555555555555556,\"#d8576b\"],[0.6666666666666666,\"#ed7953\"],[0.7777777777777778,\"#fb9f3a\"],[0.8888888888888888,\"#fdca26\"],[1.0,\"#f0f921\"]]}],\"surface\":[{\"type\":\"surface\",\"colorbar\":{\"outlinewidth\":0,\"ticks\":\"\"},\"colorscale\":[[0.0,\"#0d0887\"],[0.1111111111111111,\"#46039f\"],[0.2222222222222222,\"#7201a8\"],[0.3333333333333333,\"#9c179e\"],[0.4444444444444444,\"#bd3786\"],[0.5555555555555556,\"#d8576b\"],[0.6666666666666666,\"#ed7953\"],[0.7777777777777778,\"#fb9f3a\"],[0.8888888888888888,\"#fdca26\"],[1.0,\"#f0f921\"]]}],\"mesh3d\":[{\"type\":\"mesh3d\",\"colorbar\":{\"outlinewidth\":0,\"ticks\":\"\"}}],\"scatter\":[{\"fillpattern\":{\"fillmode\":\"overlay\",\"size\":10,\"solidity\":0.2},\"type\":\"scatter\"}],\"parcoords\":[{\"type\":\"parcoords\",\"line\":{\"colorbar\":{\"outlinewidth\":0,\"ticks\":\"\"}}}],\"scatterpolargl\":[{\"type\":\"scatterpolargl\",\"marker\":{\"colorbar\":{\"outlinewidth\":0,\"ticks\":\"\"}}}],\"bar\":[{\"error_x\":{\"color\":\"#2a3f5f\"},\"error_y\":{\"color\":\"#2a3f5f\"},\"marker\":{\"line\":{\"color\":\"#E5ECF6\",\"width\":0.5},\"pattern\":{\"fillmode\":\"overlay\",\"size\":10,\"solidity\":0.2}},\"type\":\"bar\"}],\"scattergeo\":[{\"type\":\"scattergeo\",\"marker\":{\"colorbar\":{\"outlinewidth\":0,\"ticks\":\"\"}}}],\"scatterpolar\":[{\"type\":\"scatterpolar\",\"marker\":{\"colorbar\":{\"outlinewidth\":0,\"ticks\":\"\"}}}],\"histogram\":[{\"marker\":{\"pattern\":{\"fillmode\":\"overlay\",\"size\":10,\"solidity\":0.2}},\"type\":\"histogram\"}],\"scattergl\":[{\"type\":\"scattergl\",\"marker\":{\"colorbar\":{\"outlinewidth\":0,\"ticks\":\"\"}}}],\"scatter3d\":[{\"type\":\"scatter3d\",\"line\":{\"colorbar\":{\"outlinewidth\":0,\"ticks\":\"\"}},\"marker\":{\"colorbar\":{\"outlinewidth\":0,\"ticks\":\"\"}}}],\"scattermapbox\":[{\"type\":\"scattermapbox\",\"marker\":{\"colorbar\":{\"outlinewidth\":0,\"ticks\":\"\"}}}],\"scatterternary\":[{\"type\":\"scatterternary\",\"marker\":{\"colorbar\":{\"outlinewidth\":0,\"ticks\":\"\"}}}],\"scattercarpet\":[{\"type\":\"scattercarpet\",\"marker\":{\"colorbar\":{\"outlinewidth\":0,\"ticks\":\"\"}}}],\"carpet\":[{\"aaxis\":{\"endlinecolor\":\"#2a3f5f\",\"gridcolor\":\"white\",\"linecolor\":\"white\",\"minorgridcolor\":\"white\",\"startlinecolor\":\"#2a3f5f\"},\"baxis\":{\"endlinecolor\":\"#2a3f5f\",\"gridcolor\":\"white\",\"linecolor\":\"white\",\"minorgridcolor\":\"white\",\"startlinecolor\":\"#2a3f5f\"},\"type\":\"carpet\"}],\"table\":[{\"cells\":{\"fill\":{\"color\":\"#EBF0F8\"},\"line\":{\"color\":\"white\"}},\"header\":{\"fill\":{\"color\":\"#C8D4E3\"},\"line\":{\"color\":\"white\"}},\"type\":\"table\"}],\"barpolar\":[{\"marker\":{\"line\":{\"color\":\"#E5ECF6\",\"width\":0.5},\"pattern\":{\"fillmode\":\"overlay\",\"size\":10,\"solidity\":0.2}},\"type\":\"barpolar\"}],\"pie\":[{\"automargin\":true,\"type\":\"pie\"}]},\"layout\":{\"autotypenumbers\":\"strict\",\"colorway\":[\"#636efa\",\"#EF553B\",\"#00cc96\",\"#ab63fa\",\"#FFA15A\",\"#19d3f3\",\"#FF6692\",\"#B6E880\",\"#FF97FF\",\"#FECB52\"],\"font\":{\"color\":\"#2a3f5f\"},\"hovermode\":\"closest\",\"hoverlabel\":{\"align\":\"left\"},\"paper_bgcolor\":\"white\",\"plot_bgcolor\":\"#E5ECF6\",\"polar\":{\"bgcolor\":\"#E5ECF6\",\"angularaxis\":{\"gridcolor\":\"white\",\"linecolor\":\"white\",\"ticks\":\"\"},\"radialaxis\":{\"gridcolor\":\"white\",\"linecolor\":\"white\",\"ticks\":\"\"}},\"ternary\":{\"bgcolor\":\"#E5ECF6\",\"aaxis\":{\"gridcolor\":\"white\",\"linecolor\":\"white\",\"ticks\":\"\"},\"baxis\":{\"gridcolor\":\"white\",\"linecolor\":\"white\",\"ticks\":\"\"},\"caxis\":{\"gridcolor\":\"white\",\"linecolor\":\"white\",\"ticks\":\"\"}},\"coloraxis\":{\"colorbar\":{\"outlinewidth\":0,\"ticks\":\"\"}},\"colorscale\":{\"sequential\":[[0.0,\"#0d0887\"],[0.1111111111111111,\"#46039f\"],[0.2222222222222222,\"#7201a8\"],[0.3333333333333333,\"#9c179e\"],[0.4444444444444444,\"#bd3786\"],[0.5555555555555556,\"#d8576b\"],[0.6666666666666666,\"#ed7953\"],[0.7777777777777778,\"#fb9f3a\"],[0.8888888888888888,\"#fdca26\"],[1.0,\"#f0f921\"]],\"sequentialminus\":[[0.0,\"#0d0887\"],[0.1111111111111111,\"#46039f\"],[0.2222222222222222,\"#7201a8\"],[0.3333333333333333,\"#9c179e\"],[0.4444444444444444,\"#bd3786\"],[0.5555555555555556,\"#d8576b\"],[0.6666666666666666,\"#ed7953\"],[0.7777777777777778,\"#fb9f3a\"],[0.8888888888888888,\"#fdca26\"],[1.0,\"#f0f921\"]],\"diverging\":[[0,\"#8e0152\"],[0.1,\"#c51b7d\"],[0.2,\"#de77ae\"],[0.3,\"#f1b6da\"],[0.4,\"#fde0ef\"],[0.5,\"#f7f7f7\"],[0.6,\"#e6f5d0\"],[0.7,\"#b8e186\"],[0.8,\"#7fbc41\"],[0.9,\"#4d9221\"],[1,\"#276419\"]]},\"xaxis\":{\"gridcolor\":\"white\",\"linecolor\":\"white\",\"ticks\":\"\",\"title\":{\"standoff\":15},\"zerolinecolor\":\"white\",\"automargin\":true,\"zerolinewidth\":2},\"yaxis\":{\"gridcolor\":\"white\",\"linecolor\":\"white\",\"ticks\":\"\",\"title\":{\"standoff\":15},\"zerolinecolor\":\"white\",\"automargin\":true,\"zerolinewidth\":2},\"scene\":{\"xaxis\":{\"backgroundcolor\":\"#E5ECF6\",\"gridcolor\":\"white\",\"linecolor\":\"white\",\"showbackground\":true,\"ticks\":\"\",\"zerolinecolor\":\"white\",\"gridwidth\":2},\"yaxis\":{\"backgroundcolor\":\"#E5ECF6\",\"gridcolor\":\"white\",\"linecolor\":\"white\",\"showbackground\":true,\"ticks\":\"\",\"zerolinecolor\":\"white\",\"gridwidth\":2},\"zaxis\":{\"backgroundcolor\":\"#E5ECF6\",\"gridcolor\":\"white\",\"linecolor\":\"white\",\"showbackground\":true,\"ticks\":\"\",\"zerolinecolor\":\"white\",\"gridwidth\":2}},\"shapedefaults\":{\"line\":{\"color\":\"#2a3f5f\"}},\"annotationdefaults\":{\"arrowcolor\":\"#2a3f5f\",\"arrowhead\":0,\"arrowwidth\":1},\"geo\":{\"bgcolor\":\"white\",\"landcolor\":\"#E5ECF6\",\"subunitcolor\":\"white\",\"showland\":true,\"showlakes\":true,\"lakecolor\":\"white\"},\"title\":{\"x\":0.05},\"mapbox\":{\"style\":\"light\"}}},\"xaxis\":{\"anchor\":\"y\",\"domain\":[0.0,1.0],\"title\":{\"text\":\"Income decile\"}},\"yaxis\":{\"anchor\":\"x\",\"domain\":[0.0,1.0],\"title\":{\"text\":\"Relative change\"},\"tickformat\":\".0%\"},\"legend\":{\"tracegroupgap\":0},\"title\":{\"text\":\"OBR forecast change impact on 2030 net income by income decile\"},\"barmode\":\"relative\",\"font\":{\"family\":\"Roboto Serif\",\"color\":\"black\"},\"margin\":{\"l\":50,\"r\":50,\"b\":100,\"t\":100,\"pad\":4},\"showlegend\":false,\"annotations\":[{\"font\":{\"color\":\"#616161\",\"family\":\"Roboto Serif\",\"size\":10},\"showarrow\":false,\"text\":\"Source: PolicyEngine UK\",\"x\":1,\"xref\":\"paper\",\"y\":-0.25,\"yref\":\"paper\"}],\"images\":[{\"sizex\":0.1,\"sizey\":0.1,\"source\":\"\\u002flogo512.png\",\"x\":1,\"xanchor\":\"right\",\"xref\":\"paper\",\"y\":-0.2,\"yanchor\":\"bottom\",\"yref\":\"paper\"}]}}\n",
       "```"
      ],
      "text/plain": [
       "<IPython.core.display.Markdown object>"
      ]
     },
     "execution_count": 131,
     "metadata": {},
     "output_type": "execute_result"
    }
   ],
   "source": [
    "decile = sim.baseline_simulation.calculate(\"household_income_decile\", 2025)\n",
    "income = sim.baseline_simulation.calculate(\"household_net_income\", 2030)\n",
    "gain = sim.reform_simulation.calculate(\"household_net_income\", 2030) - sim.baseline_simulation.calculate(\"household_net_income\", 2030)\n",
    "aggregate_change_by_decile = gain.groupby(decile).sum()\n",
    "relative_change_by_decile = gain.groupby(decile).sum() / income.groupby(decile).sum()\n",
    "\n",
    "df = pd.DataFrame({\n",
    "    \"Aggregate change\": aggregate_change_by_decile.values,\n",
    "    \"Relative change\": relative_change_by_decile.values,\n",
    "    \"Income decile\": aggregate_change_by_decile.index,\n",
    "})\n",
    "df = df[df[\"Income decile\"] > 0]\n",
    "df[\"Text\"] = df[\"Relative change\"].apply(lambda x: f\"{x:.1%}\")\n",
    "\n",
    "fig = px.bar(\n",
    "    df,\n",
    "    x=\"Income decile\",\n",
    "    y=\"Relative change\",\n",
    "    text=\"Text\",\n",
    "    color_discrete_sequence=[DARK_GRAY],\n",
    "    labels={\"Aggregate change\": \"Change in net income (£)\", \"Income decile\": \"Income decile\"},\n",
    "    title=\"OBR forecast change impact on 2030 net income by income decile\",\n",
    ").update_layout(\n",
    "    font=dict(family=\"Roboto Serif\"),\n",
    "    yaxis_tickformat=\".0%\",\n",
    "    xaxis_title=\"Income decile\",\n",
    "    showlegend=False,\n",
    "    font_color=\"black\",\n",
    "    margin={\n",
    "      \"l\": 50,\n",
    "      \"r\": 50,\n",
    "      \"b\": 100,\n",
    "      \"t\": 100,\n",
    "      \"pad\": 4\n",
    "    },\n",
    "    annotations=[\n",
    "      {\n",
    "        \"x\": 1,\n",
    "        \"y\": -0.25,\n",
    "        \"xref\": \"paper\",\n",
    "        \"yref\": \"paper\",\n",
    "        \"text\": \"Source: PolicyEngine UK\",\n",
    "        \"showarrow\": False,\n",
    "        \"font\": {\n",
    "          \"family\": \"Roboto Serif\",\n",
    "          \"size\": 10,\n",
    "          \"color\": \"#616161\"\n",
    "        }\n",
    "      }\n",
    "    ],\n",
    "    images=[\n",
    "      {\n",
    "        \"source\": \"/logo512.png\",\n",
    "        \"x\": 1,\n",
    "        \"y\": -0.20,\n",
    "        \"xref\": \"paper\",\n",
    "        \"yref\": \"paper\",\n",
    "        \"sizex\": 0.1,\n",
    "        \"sizey\": 0.1,\n",
    "        \"xanchor\": \"right\",\n",
    "        \"yanchor\": \"bottom\"\n",
    "      }\n",
    "    ],\n",
    ")\n",
    "Markdown(f\"```plotly\\n{fig.to_json()}\\n```\")"
   ]
  },
  {
   "cell_type": "markdown",
   "metadata": {},
   "source": [
    "## Households by beneficiary status\n",
    "\n",
    "The ONS [reports](https://www.ons.gov.uk/peoplepopulationandcommunity/personalandhouseholdfinances/incomeandwealth/bulletins/theeffectsoftaxesandbenefitsonhouseholdincome/financialyearending2023) on the net recipient rate. This is the percentage of households that receive more in benefits than they pay in taxes.\n",
    "\n",
    "While we do not currently report on public service consumption, we can estimate the share of households who receive more in cash benefits than they pay in taxes.\n",
    "\n"
   ]
  },
  {
   "cell_type": "code",
   "execution_count": 143,
   "metadata": {},
   "outputs": [
    {
     "data": {
      "text/markdown": [
       "### Net recipients\n",
       "\n",
       "|   Year |   Net recipients rate (%) (Autumn 2024) |   Net recipients rate (%) (Spring 2025) |   Change in rate (pp) |   Net recipients (Autumn 2024) (m) |   Net recipients (Spring 2025) (m) |   Change in net recipients (k) |\n",
       "|-------:|----------------------------------------:|----------------------------------------:|----------------------:|-----------------------------------:|-----------------------------------:|-------------------------------:|\n",
       "|   2025 |                                    45.4 |                                    45.4 |                   0   |                               30.2 |                               30.2 |                              0 |\n",
       "|   2026 |                                    45.3 |                                    45.5 |                   0.2 |                               30.5 |                               30.7 |                            158 |\n",
       "|   2027 |                                    45.1 |                                    45.4 |                   0.3 |                               30.6 |                               30.8 |                            240 |\n",
       "|   2028 |                                    44.9 |                                    45.3 |                   0.4 |                               30.5 |                               30.9 |                            336 |\n",
       "|   2029 |                                    44.8 |                                    45.2 |                   0.4 |                               30.5 |                               30.9 |                            408 |"
      ],
      "text/plain": [
       "<IPython.core.display.Markdown object>"
      ]
     },
     "execution_count": 143,
     "metadata": {},
     "output_type": "execute_result"
    }
   ],
   "source": [
    "years = []\n",
    "net_recipients_rate_a = []\n",
    "net_recipients_rate_s = []\n",
    "net_recipients_people_a = []\n",
    "net_recipients_people_s = []\n",
    "change_rate = []\n",
    "change_people = []\n",
    "\n",
    "for year in range(2025, 2030):\n",
    "    years.append(year)\n",
    "    net_recipients_rate_a.append((sim.baseline_simulation.calculate(\"household_benefits\", year) > sim.baseline_simulation.calculate(\"household_tax\", year)).mean())\n",
    "    net_recipients_rate_s.append((sim.reform_simulation.calculate(\"household_benefits\", year) > sim.reform_simulation.calculate(\"household_tax\", year)).mean())\n",
    "    change_rate.append(net_recipients_rate_s[-1] - net_recipients_rate_a[-1])\n",
    "    net_recipients_people_a.append((sim.baseline_simulation.calculate(\"household_benefits\", year, map_to=\"person\") > sim.baseline_simulation.calculate(\"household_tax\", year, map_to=\"person\")).sum())\n",
    "    net_recipients_people_s.append((sim.reform_simulation.calculate(\"household_benefits\", year, map_to=\"person\") > sim.reform_simulation.calculate(\"household_tax\", year, map_to=\"person\")).sum())\n",
    "    change_people.append(net_recipients_people_s[-1] - net_recipients_people_a[-1])\n",
    "df = pd.DataFrame({\n",
    "    \"Year\": years,\n",
    "    \"Net recipients rate (%) (Autumn 2024)\": net_recipients_rate_a,\n",
    "    \"Net recipients rate (%) (Spring 2025)\": net_recipients_rate_s,\n",
    "    \"Change in rate (pp)\": change_rate,\n",
    "    \"Net recipients (Autumn 2024) (m)\": net_recipients_people_a,\n",
    "    \"Net recipients (Spring 2025) (m)\": net_recipients_people_s,\n",
    "    \"Change in net recipients (k)\": change_people,\n",
    "})\n",
    "\n",
    "df[\"Net recipients rate (%) (Autumn 2024)\"] = df[\"Net recipients rate (%) (Autumn 2024)\"].apply(lambda x: f\"{x*100:.1f}\")\n",
    "df[\"Net recipients rate (%) (Spring 2025)\"] = df[\"Net recipients rate (%) (Spring 2025)\"].apply(lambda x: f\"{x*100:.1f}\")\n",
    "df[\"Change in rate (pp)\"] = df[\"Change in rate (pp)\"].apply(lambda x: f\"{x*100:.1f}\")\n",
    "\n",
    "df[\"Net recipients (Autumn 2024) (m)\"] = df[\"Net recipients (Autumn 2024) (m)\"].apply(lambda x: f\"{x/1e6:.1f}\")\n",
    "df[\"Net recipients (Spring 2025) (m)\"] = df[\"Net recipients (Spring 2025) (m)\"].apply(lambda x: f\"{x/1e6:.1f}\")\n",
    "df[\"Change in net recipients (k)\"] = df[\"Change in net recipients (k)\"].apply(lambda x: f\"{x/1e3:.0f}\")\n",
    "\n",
    "\n",
    "Markdown(f\"### Net recipients\\n\\n\" + df.set_index(\"Year\").to_markdown())"
   ]
  }
 ],
 "metadata": {
  "kernelspec": {
   "display_name": ".venv",
   "language": "python",
   "name": "python3"
  },
  "language_info": {
   "codemirror_mode": {
    "name": "ipython",
    "version": 3
   },
   "file_extension": ".py",
   "mimetype": "text/x-python",
   "name": "python",
   "nbconvert_exporter": "python",
   "pygments_lexer": "ipython3",
   "version": "3.11.11"
  }
 },
 "nbformat": 4,
 "nbformat_minor": 2
}
