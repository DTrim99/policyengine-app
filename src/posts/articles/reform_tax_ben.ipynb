{
 "cells": [
  {
   "cell_type": "code",
   "execution_count": 75,
   "id": "c86ae1b1",
   "metadata": {},
   "outputs": [
    {
     "name": "stdout",
     "output_type": "stream",
     "text": [
      "\u001b[2mUsing Python 3.11.11 environment at: /Users/nikhilwoodruff/policyengine/policyengine-app/.venv\u001b[0m\n",
      "Name: policyengine-uk\n",
      "Version: 2.28.1\n",
      "Location: /Users/nikhilwoodruff/policyengine/policyengine-app/.venv/lib/python3.11/site-packages\n",
      "Requires: microdf-python, policyengine-core\n",
      "Required-by: policyengine\n"
     ]
    }
   ],
   "source": [
    "!uv pip show policyengine-uk"
   ]
  },
  {
   "cell_type": "markdown",
   "id": "9cf7ac94",
   "metadata": {},
   "source": [
    "Reform UK leader Nigel Farage today confirmed four tax-benefit policy reforms would be included in the party's manifesto for the next general election in a [speech](https://www.bbc.co.uk/news/articles/c5yx062pvlvo) in central London. The party had previously included three of these reforms in its 2024 general election manifesto, committing to:\n",
    "\n",
    "* Increase the Personal Allowance from £12,570 to £20,000\n",
    "* Increase the higher rate threshold from £50,270 to £70,000\n",
    "* Raise the Marriage Allowance maximum rate from 10% to 25%\n",
    "\n",
    "Today Farage confirmed that the party would include these reforms in the next general election manifesto, alongside a third commitment to repeal the two-child benefit cap on Universal Credit and Child Tax Credit payments.\n",
    "\n",
    "## Currrent policy\n",
    "\n",
    "### Personal Allowance\n",
    "\n",
    "The government exempts the first £12,570 of an individual's income from income tax, known as the **Personal Allowance**. The personal allowance is gradually reduced for individuals earning over £100,000, with a complete withdrawal at £125,140. The government has frozen this threshold since 2021, and is scheduled to remain at this level until 2028.\n",
    "\n",
    "### Marriage Allowance\n",
    "\n",
    "The Marriage Allowance permits couples to transfer 10% of any unused personal allowance between spouses when one earns below the Personal Allowance threshold and the other pays the basic rate.\n",
    "\n",
    "### Two-child limit\n",
    "\n",
    "The two-child limit removes the entitlement of children born after April 2017 to Universal Credit and Child Tax Credit child element payments, if they are the third or subsequent child in a family, unless [exceptions](https://www.gov.uk/guidance/child-tax-credit-exceptions-to-the-2-child-limit#overview) apply.\n",
    "\n",
    "### Economic impacts\n",
    "\n",
    "PolicyEngine's model [estimates](https://policyengine.org/uk/policy?reform=85289&focus=policyOutput.budgetaryImpact&region=uk&timePeriod=2025&baseline=1&uk_local_areas_beta=false&simYears=5) that these reforms would raise the deficit by £77 billion in 2025-26, rising to £Y billion in 2029-30.\n",
    "\n",
    "*Table 1: Estimated revenue impacts of Reform UK's reform proposals (£ billion)*\n",
    "| Policy                                   |   2025 |   2026 |   2027 |   2028 |   2029 |   2025-29 |\n",
    "|:-----------------------------------------|-------:|-------:|-------:|-------:|-------:|----------:|\n",
    "| Repeal the two-child limit               |   -1.7 |   -1.8 |   -1.9 |   -2.2 |   -2.3 |      -9.9 |\n",
    "| Raise the Personal Allowance to £20,000  |  -50.7 |  -51.5 |  -52.4 |  -49.1 |  -45.5 |    -249.3 |\n",
    "| Set the higher rate threshold to £70,000 |  -22.2 |  -23.8 |  -25.5 |  -27.2 |  -29.3 |    -128   |\n",
    "| Raise the Marriage Allowance rate to 25% |   -0.7 |   -0.7 |   -0.8 |   -0.8 |   -0.9 |      -3.9 |\n",
    "| Total                                    |  -75.3 |  -77.9 |  -80.5 |  -79.3 |  -78.1 |    -391.1 |\n"
   ]
  },
  {
   "cell_type": "code",
   "execution_count": 50,
   "id": "a8a4b9b9",
   "metadata": {},
   "outputs": [
    {
     "name": "stderr",
     "output_type": "stream",
     "text": [
      "  0%|          | 0/4 [00:00<?, ?it/s]INFO:root:Using Google Cloud Storage for download.\n",
      "WARNING:root:No version specified for policyengine-uk-data-private, enhanced_frs_2022_23.h5. Using latest version: 1.11.6\n",
      "INFO:policyengine.utils.data.caching_google_storage_client:Syncing policyengine-uk-data-private, enhanced_frs_2022_23.h5, 1.11.6 to cache\n",
      "INFO:policyengine.utils.data.caching_google_storage_client:Cache exists and crc is unchanged for policyengine-uk-data-private, enhanced_frs_2022_23.h5.\n",
      "INFO:policyengine.utils.data.caching_google_storage_client:Copying downloaded data for policyengine-uk-data-private, enhanced_frs_2022_23.h5 to enhanced_frs_2022_23.h5\n"
     ]
    },
    {
     "name": "stdout",
     "output_type": "stream",
     "text": [
      "{'gov.dwp.universal_credit.elements.child.limit.child_count': 90} Repeal the two-child limit\n"
     ]
    },
    {
     "name": "stderr",
     "output_type": "stream",
     "text": [
      "100%|██████████| 5/5 [00:52<00:00, 10.54s/it]\n",
      " 25%|██▌       | 1/4 [00:54<02:42, 54.10s/it]INFO:root:Using Google Cloud Storage for download.\n",
      "WARNING:root:No version specified for policyengine-uk-data-private, enhanced_frs_2022_23.h5. Using latest version: 1.11.6\n",
      "INFO:policyengine.utils.data.caching_google_storage_client:Syncing policyengine-uk-data-private, enhanced_frs_2022_23.h5, 1.11.6 to cache\n",
      "INFO:policyengine.utils.data.caching_google_storage_client:Cache exists and crc is unchanged for policyengine-uk-data-private, enhanced_frs_2022_23.h5.\n",
      "INFO:policyengine.utils.data.caching_google_storage_client:Copying downloaded data for policyengine-uk-data-private, enhanced_frs_2022_23.h5 to enhanced_frs_2022_23.h5\n"
     ]
    },
    {
     "name": "stdout",
     "output_type": "stream",
     "text": [
      "{'gov.dwp.universal_credit.elements.child.limit.child_count': 90, 'gov.hmrc.income_tax.allowances.personal_allowance.amount': 20000, 'gov.hmrc.income_tax.rates.uk[1].threshold': 30270} Raise the Personal Allowance to £20,000\n"
     ]
    },
    {
     "name": "stderr",
     "output_type": "stream",
     "text": [
      "100%|██████████| 5/5 [00:49<00:00,  9.97s/it]\n",
      " 50%|█████     | 2/4 [01:45<01:44, 52.39s/it]INFO:root:Using Google Cloud Storage for download.\n",
      "WARNING:root:No version specified for policyengine-uk-data-private, enhanced_frs_2022_23.h5. Using latest version: 1.11.6\n",
      "INFO:policyengine.utils.data.caching_google_storage_client:Syncing policyengine-uk-data-private, enhanced_frs_2022_23.h5, 1.11.6 to cache\n",
      "INFO:policyengine.utils.data.caching_google_storage_client:Cache exists and crc is unchanged for policyengine-uk-data-private, enhanced_frs_2022_23.h5.\n",
      "INFO:policyengine.utils.data.caching_google_storage_client:Copying downloaded data for policyengine-uk-data-private, enhanced_frs_2022_23.h5 to enhanced_frs_2022_23.h5\n"
     ]
    },
    {
     "name": "stdout",
     "output_type": "stream",
     "text": [
      "{'gov.dwp.universal_credit.elements.child.limit.child_count': 90, 'gov.hmrc.income_tax.allowances.personal_allowance.amount': 20000, 'gov.hmrc.income_tax.rates.uk[1].threshold': 50000} Set the higher rate threshold to £70,000\n"
     ]
    },
    {
     "name": "stderr",
     "output_type": "stream",
     "text": [
      "100%|██████████| 5/5 [00:49<00:00,  9.98s/it]\n",
      " 75%|███████▌  | 3/4 [02:36<00:51, 51.83s/it]INFO:root:Using Google Cloud Storage for download.\n",
      "WARNING:root:No version specified for policyengine-uk-data-private, enhanced_frs_2022_23.h5. Using latest version: 1.11.6\n",
      "INFO:policyengine.utils.data.caching_google_storage_client:Syncing policyengine-uk-data-private, enhanced_frs_2022_23.h5, 1.11.6 to cache\n",
      "INFO:policyengine.utils.data.caching_google_storage_client:Cache exists and crc is unchanged for policyengine-uk-data-private, enhanced_frs_2022_23.h5.\n",
      "INFO:policyengine.utils.data.caching_google_storage_client:Copying downloaded data for policyengine-uk-data-private, enhanced_frs_2022_23.h5 to enhanced_frs_2022_23.h5\n"
     ]
    },
    {
     "name": "stdout",
     "output_type": "stream",
     "text": [
      "{'gov.dwp.universal_credit.elements.child.limit.child_count': 90, 'gov.hmrc.income_tax.allowances.personal_allowance.amount': 20000, 'gov.hmrc.income_tax.rates.uk[1].threshold': 50000, 'gov.hmrc.income_tax.allowances.marriage_allowance.max': 0.25} Raise the Marriage Allowance rate to 25%\n"
     ]
    },
    {
     "name": "stderr",
     "output_type": "stream",
     "text": [
      "100%|██████████| 5/5 [00:49<00:00,  9.86s/it]\n",
      "100%|██████████| 4/4 [03:26<00:00, 51.74s/it]\n"
     ]
    }
   ],
   "source": [
    "from policyengine import Simulation\n",
    "\n",
    "raise_pa = {\n",
    "    \"gov.hmrc.income_tax.allowances.personal_allowance.amount\": 20_000,\n",
    "    \"gov.hmrc.income_tax.rates.uk[1].threshold\": 37_700 - (20_000 - 12_570),\n",
    "}\n",
    "higher_rate_threshold = {\n",
    "    \"gov.hmrc.income_tax.rates.uk[1].threshold\": 50_000,\n",
    "}\n",
    "raise_ma_rate = {\n",
    "    \"gov.hmrc.income_tax.allowances.marriage_allowance.max\": 0.25,\n",
    "}\n",
    "repeal_two_child_limit = {\n",
    "    \"gov.dwp.universal_credit.elements.child.limit.child_count\": 90,\n",
    "}\n",
    "\n",
    "policy_reforms = [\n",
    "    repeal_two_child_limit,\n",
    "    raise_pa,\n",
    "    higher_rate_threshold,\n",
    "    raise_ma_rate,\n",
    "]\n",
    "policy_reform_names = [\n",
    "    \"Repeal the two-child limit\",\n",
    "    \"Raise the Personal Allowance to £20,000\",\n",
    "    \"Set the higher rate threshold to £70,000\",\n",
    "    \"Raise the Marriage Allowance rate to 25%\",\n",
    "]\n",
    "\n",
    "years = []\n",
    "debt_impacts = []\n",
    "policies = []\n",
    "\n",
    "from tqdm import tqdm\n",
    "\n",
    "for i in tqdm(range(len(policy_reforms))):\n",
    "    reform = {}\n",
    "    for j in range(i + 1):\n",
    "        reform.update(policy_reforms[j])\n",
    "\n",
    "    sim = Simulation(\n",
    "        country=\"uk\",\n",
    "        scope=\"macro\",\n",
    "        reform=reform,\n",
    "    )\n",
    "    print(reform, policy_reform_names[i])\n",
    "\n",
    "    for year in tqdm(range(2025, 2030)):\n",
    "        debt_impact = sim.reform_simulation.calculate(\"gov_balance\", year).sum()/1e9 - sim.baseline_simulation.calculate(\"gov_balance\", year).sum()/1e9\n",
    "        years.append(year)\n",
    "        debt_impacts.append(debt_impact)\n",
    "        policies.append(policy_reform_names[i])\n",
    "\n"
   ]
  },
  {
   "cell_type": "code",
   "execution_count": 65,
   "id": "56e44931",
   "metadata": {},
   "outputs": [],
   "source": [
    "import pandas as pd\n",
    "\n",
    "df = pd.DataFrame({\n",
    "    \"Year\": years,\n",
    "    \"Debt impact (£ billions)\": debt_impacts,\n",
    "    \"Policy\": policies,\n",
    "})\n",
    "\n",
    "df = df.pivot(columns=\"Year\", index=\"Policy\", values=\"Debt impact (£ billions)\")\n",
    "df = df.iloc[[2, 1, 3, 0]]"
   ]
  },
  {
   "cell_type": "code",
   "execution_count": 67,
   "id": "35291e14",
   "metadata": {},
   "outputs": [],
   "source": [
    "df.values[1:] = df.values[1:] - df.values[:-1]"
   ]
  },
  {
   "cell_type": "code",
   "execution_count": 68,
   "id": "7f1230a9",
   "metadata": {},
   "outputs": [],
   "source": [
    "df[\"2025-29\"] = df.sum(axis=1)"
   ]
  },
  {
   "cell_type": "code",
   "execution_count": 70,
   "id": "0c7d8a5a",
   "metadata": {},
   "outputs": [],
   "source": [
    "# Add 'total' row\n",
    "df.loc[\"Total\"] = df.sum(numeric_only=True)"
   ]
  },
  {
   "cell_type": "code",
   "execution_count": 71,
   "id": "d2b5d2eb",
   "metadata": {},
   "outputs": [
    {
     "name": "stdout",
     "output_type": "stream",
     "text": [
      "| Policy                                   |   2025 |   2026 |   2027 |   2028 |   2029 |   2025-29 |\n",
      "|:-----------------------------------------|-------:|-------:|-------:|-------:|-------:|----------:|\n",
      "| Repeal the two-child limit               |   -1.7 |   -1.8 |   -1.9 |   -2.2 |   -2.3 |      -9.9 |\n",
      "| Raise the Personal Allowance to £20,000  |  -50.7 |  -51.5 |  -52.4 |  -49.1 |  -45.5 |    -249.3 |\n",
      "| Set the higher rate threshold to £70,000 |  -22.2 |  -23.8 |  -25.5 |  -27.2 |  -29.3 |    -128   |\n",
      "| Raise the Marriage Allowance rate to 25% |   -0.7 |   -0.7 |   -0.8 |   -0.8 |   -0.9 |      -3.9 |\n",
      "| Total                                    |  -75.3 |  -77.9 |  -80.5 |  -79.3 |  -78.1 |    -391.1 |\n"
     ]
    }
   ],
   "source": [
    "print(df.round(1).to_markdown(index=True))"
   ]
  }
 ],
 "metadata": {
  "kernelspec": {
   "display_name": ".venv",
   "language": "python",
   "name": "python3"
  },
  "language_info": {
   "codemirror_mode": {
    "name": "ipython",
    "version": 3
   },
   "file_extension": ".py",
   "mimetype": "text/x-python",
   "name": "python",
   "nbconvert_exporter": "python",
   "pygments_lexer": "ipython3",
   "version": "3.11.11"
  }
 },
 "nbformat": 4,
 "nbformat_minor": 5
}
